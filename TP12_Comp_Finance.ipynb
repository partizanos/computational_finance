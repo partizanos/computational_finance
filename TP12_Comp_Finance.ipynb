{
  "nbformat": 4,
  "nbformat_minor": 0,
  "metadata": {
    "colab": {
      "name": "TP12_Comp_Finance.ipynb",
      "version": "0.3.2",
      "provenance": [],
      "include_colab_link": true
    },
    "kernelspec": {
      "name": "python3",
      "display_name": "Python 3"
    }
  },
  "cells": [
    {
      "cell_type": "markdown",
      "metadata": {
        "id": "view-in-github",
        "colab_type": "text"
      },
      "source": [
        "<a href=\"https://colab.research.google.com/github/partizanos/computational_finance/blob/master/TP12_Comp_Finance.ipynb\" target=\"_parent\"><img src=\"https://colab.research.google.com/assets/colab-badge.svg\" alt=\"Open In Colab\"/></a>"
      ]
    },
    {
      "cell_type": "markdown",
      "metadata": {
        "id": "Up-YMzBIKIos",
        "colab_type": "text"
      },
      "source": [
        "Series 12\n",
        "Introduction to Computational Finance\n",
        "DIMITRIS PROIOS\n",
        "\n",
        "## Bonds\n",
        "Using the same bond as last week, and assuming the required yield is 10%: A bond with\n",
        "3 years maturity, a face value of 100$ and coupons of 10% paid semi-annually:\n",
        "\n",
        "|time [years] | coupon [CHF] \n",
        "|---|---| \n",
        "| 0.5 | 5\n",
        "| 1 | 5\n",
        "| 1.5 | 5\n",
        "| 2 | 5\n",
        "|2.5 | 5\n",
        "| 3 | 5\n",
        "\n",
        "\n",
        "- What is the present value of the bond ?\n"
      ]
    },
    {
      "cell_type": "code",
      "metadata": {
        "id": "Y9z-WgAxJ-Qp",
        "colab_type": "code",
        "colab": {
          "base_uri": "https://localhost:8080/",
          "height": 156
        },
        "outputId": "b3b2cbba-c0e0-4979-8e89-efff6fe26716"
      },
      "source": [
        "import math\n",
        "\n",
        "def present_value(face_value, coupon, periods, rate):\n",
        "    total_pv = 0\n",
        "    coupon_values = [coupon / math.pow((1 + rate), n) for n in range(1, periods+1)]\n",
        "    total_pv += sum(coupon_values)\n",
        " \n",
        "    last_payment = face_value / math.pow((1 + rate), periods)\n",
        "    total_pv += last_payment\n",
        " \n",
        "    return coupon_values, last_payment, total_pv\n",
        "\n",
        "\n",
        "face_value = 100\n",
        "coupon = 5\n",
        "periods = 6\n",
        "rate = 0.05\n",
        "\n",
        "present_value(face_value, coupon, periods, rate)"
      ],
      "execution_count": 2,
      "outputs": [
        {
          "output_type": "execute_result",
          "data": {
            "text/plain": [
              "([4.761904761904762,\n",
              "  4.535147392290249,\n",
              "  4.31918799265738,\n",
              "  4.113512373959409,\n",
              "  3.917630832342294,\n",
              "  3.731076983183137],\n",
              " 74.62153966366274,\n",
              " 99.99999999999997)"
            ]
          },
          "metadata": {
            "tags": []
          },
          "execution_count": 2
        }
      ]
    },
    {
      "cell_type": "markdown",
      "metadata": {
        "id": "mZgexmepKk2g",
        "colab_type": "text"
      },
      "source": [
        "- Compute the duration and the convexity of the bond.\n",
        "- Estimate (with and without convexity) what would be the effect of a x% parallel\n",
        "shift of the yield curve when x equals 0.1% and 1%.\n",
        "- Compare your answer to the exact values.\n",
        "\n",
        "\n",
        "If computing the exact value is so simple, why bothering using an approximation through\n",
        "duration ?"
      ]
    }
  ]
}