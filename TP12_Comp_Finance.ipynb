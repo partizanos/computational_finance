{
  "nbformat": 4,
  "nbformat_minor": 0,
  "metadata": {
    "colab": {
      "name": "TP12_Comp_Finance.ipynb",
      "version": "0.3.2",
      "provenance": [],
      "include_colab_link": true
    },
    "kernelspec": {
      "name": "python3",
      "display_name": "Python 3"
    }
  },
  "cells": [
    {
      "cell_type": "markdown",
      "metadata": {
        "id": "view-in-github",
        "colab_type": "text"
      },
      "source": [
        "<a href=\"https://colab.research.google.com/github/partizanos/computational_finance/blob/master/TP12_Comp_Finance.ipynb\" target=\"_parent\"><img src=\"https://colab.research.google.com/assets/colab-badge.svg\" alt=\"Open In Colab\"/></a>"
      ]
    },
    {
      "cell_type": "markdown",
      "metadata": {
        "id": "Up-YMzBIKIos",
        "colab_type": "text"
      },
      "source": [
        "Series 12\n",
        "Introduction to Computational Finance\n",
        "DIMITRIS PROIOS\n",
        "\n",
        "## Bonds\n",
        "Using the same bond as last week, and assuming the required yield is 10%: A bond with\n",
        "3 years maturity, a face value of 100$ and coupons of 10% paid semi-annually:\n",
        "\n",
        "|time [years] | coupon [CHF] \n",
        "|---|---| \n",
        "| 0.5 | 5\n",
        "| 1 | 5\n",
        "| 1.5 | 5\n",
        "| 2 | 5\n",
        "|2.5 | 5\n",
        "| 3 | 5\n",
        "\n",
        "\n",
        "- What is the present value of the bond ?\n",
        "\n",
        "**Answer**\n",
        "\n",
        "Value of bonds can be calculated with this formula:\n",
        "$B = (\\sum c e^{rt}) + P e^{rt}$\n",
        "\n",
        "By replacing with the data of our table the formula becomes:\n",
        "\n",
        "$B = 5 e^{-0.1 * 0.5} + 5 e^{-0.1* 1} +5 e^{-0.1 * 1.5} +5 e^{-0.1* 2} +5 e^{-0.1 * 2.5}  + 105 e^{-0.1 * 3}$\n"
      ]
    },
    {
      "cell_type": "code",
      "metadata": {
        "id": "Y9z-WgAxJ-Qp",
        "colab_type": "code",
        "outputId": "7f1cef99-3b80-4ded-f554-0b5a0c40d6d6",
        "colab": {
          "base_uri": "https://localhost:8080/",
          "height": 35
        }
      },
      "source": [
        "import math\n",
        "\n",
        "def present_value(face_value, coupon, periods, rate):\n",
        "    total_pv = 0\n",
        "    coupon_values = [coupon / math.pow(- (1 + rate), n) for n in range(1, periods+1)]\n",
        "    total_pv += sum(coupon_values)\n",
        " \n",
        "    last_payment = face_value / math.pow(- (1 + rate), periods)\n",
        "    total_pv += last_payment\n",
        " \n",
        "    return total_pv\n",
        "\n",
        "\n",
        "face_value = 100\n",
        "coupon = 5\n",
        "periods = 6\n",
        "rate = 0.05\n",
        "\n",
        "present_value(face_value, coupon, periods, rate)"
      ],
      "execution_count": 2,
      "outputs": [
        {
          "output_type": "execute_result",
          "data": {
            "text/plain": [
              "74.0025528261911"
            ]
          },
          "metadata": {
            "tags": []
          },
          "execution_count": 2
        }
      ]
    },
    {
      "cell_type": "markdown",
      "metadata": {
        "id": "mZgexmepKk2g",
        "colab_type": "text"
      },
      "source": [
        "- Compute the duration and the convexity of the bond.\n",
        "- Estimate (with and without convexity) what would be the effect of a x% parallel\n",
        "shift of the yield curve when x equals 0.1% and 1%.\n",
        "- Compare your answer to the exact values.\n",
        "\n",
        "\n",
        "If computing the exact value is so simple, why bothering using an approximation through\n",
        "duration ?"
      ]
    }
  ]
}