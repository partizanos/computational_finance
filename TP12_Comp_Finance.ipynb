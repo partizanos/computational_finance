{
  "nbformat": 4,
  "nbformat_minor": 0,
  "metadata": {
    "colab": {
      "name": "TP12_Comp_Finance.ipynb",
      "version": "0.3.2",
      "provenance": [],
      "include_colab_link": true
    },
    "kernelspec": {
      "name": "python3",
      "display_name": "Python 3"
    }
  },
  "cells": [
    {
      "cell_type": "markdown",
      "metadata": {
        "id": "view-in-github",
        "colab_type": "text"
      },
      "source": [
        "<a href=\"https://colab.research.google.com/github/partizanos/computational_finance/blob/master/TP12_Comp_Finance.ipynb\" target=\"_parent\"><img src=\"https://colab.research.google.com/assets/colab-badge.svg\" alt=\"Open In Colab\"/></a>"
      ]
    },
    {
      "cell_type": "markdown",
      "metadata": {
        "id": "Up-YMzBIKIos",
        "colab_type": "text"
      },
      "source": [
        "Series 12\n",
        "Introduction to Computational Finance\n",
        "DIMITRIS PROIOS\n",
        "\n",
        "## Bonds\n",
        "### Using the same bond as last week, and assuming the required yield is 10%: A bond with 3 years maturity, a face value of 100$ and coupons of 10% paid semi-annually:\n",
        "\n",
        "|time [years] | coupon [CHF] \n",
        "|---|---| \n",
        "| 0.5 | 5\n",
        "| 1 | 5\n",
        "| 1.5 | 5\n",
        "| 2 | 5\n",
        "|2.5 | 5\n",
        "| 3 | 5\n",
        "\n",
        "\n",
        "### What is the present value of the bond ?\n",
        "\n",
        "**Answer**\n",
        "\n",
        "Value of bonds can be calculated with this formula:\n",
        "$B = (\\sum c e^{rt}) + P e^{rt}$\n",
        "\n",
        "By replacing with the data of our table the formula becomes:\n",
        "\n",
        "$B = 5 e^{-0.1 * 0.5} + 5 e^{-0.1* 1} +5 e^{-0.1 * 1.5} +5 e^{-0.1* 2} +5 e^{-0.1 * 2.5}  + 105 e^{-0.1 * 3}$\n"
      ]
    },
    {
      "cell_type": "code",
      "metadata": {
        "id": "1IczC6SF4mrn",
        "colab_type": "code",
        "outputId": "c0c5d899-d4c9-470e-9028-2ae5b0cf48fa",
        "colab": {
          "base_uri": "https://localhost:8080/",
          "height": 34
        }
      },
      "source": [
        "import numpy as np\n",
        "\n",
        "discount = lambda n, rate: np.power(np.e, (-n * rate))\n",
        "\n",
        "coupon_values = lambda coupon, periods: sum(\n",
        "    [coupon * discount(n, rate) for n in periods]\n",
        ")\n",
        "\n",
        "def total_present_value(face_value, coupon, periods, rate):\n",
        "    cv = coupon_values(coupon, periods)\n",
        "    \n",
        "    last_payment = face_value * discount(periods[-1], rate)\n",
        "    \n",
        "    total_pv = cv + last_payment \n",
        "    \n",
        "    \n",
        "    return total_pv \n",
        "\n",
        "\n",
        "face_value = 100\n",
        "coupon = 5\n",
        "periods = np.linspace(0.5, 3, 6).tolist()\n",
        "rate = 0.1\n",
        "\n",
        "pv = total_present_value(face_value, coupon, periods, rate)\n",
        "print(\"total_pv: \", pv)"
      ],
      "execution_count": 7,
      "outputs": [
        {
          "output_type": "stream",
          "text": [
            "total_pv:  99.35744494713597\n"
          ],
          "name": "stdout"
        }
      ]
    },
    {
      "cell_type": "markdown",
      "metadata": {
        "id": "mZgexmepKk2g",
        "colab_type": "text"
      },
      "source": [
        "### Compute the duration and the convexity of the bond.\n",
        "\n",
        "**Answer**\n",
        "\n",
        "#### Duration:\n",
        "\n",
        "$D =\\frac{\\sum_{i=1}^{n} t_i c_i e^{-yt_i}}{B}  $ \n",
        "\n",
        "Duration also measures the price sensitivity to yield, the rate of change of price with respect to yield or the percentage change in price for a parallel shift in yields\n"
      ]
    },
    {
      "cell_type": "code",
      "metadata": {
        "id": "QPV0t-n2g3nk",
        "colab_type": "code",
        "colab": {
          "base_uri": "https://localhost:8080/",
          "height": 68
        },
        "outputId": "25e65d86-4530-4cf3-c2b9-485c6ce2842d"
      },
      "source": [
        "discount = lambda t, rate: np.power(np.e, (-t * rate))\n",
        "duration_coupon_values = lambda coupon, periods: sum([t * coupon * discount(t, rate) for t in periods])\n",
        "\n",
        "\n",
        "def duration(face_value, coupon, periods, rate):\n",
        "  duration_cv = duration_coupon_values(coupon, periods)\n",
        "  \n",
        "  tv = total_present_value(face_value, coupon, periods, rate)\n",
        "  \n",
        "  duration = duration_cv / tv\n",
        "  \n",
        "  print(\"duration_coupon_values: \", duration_cv)\n",
        "  print(\"present value : \", tv)\n",
        "  print(\"duration: \", duration)\n",
        "  \n",
        "  return duration\n",
        "  \n",
        "#Duration of bond\n",
        "D=duration(face_value, coupon, periods, rate)\n"
      ],
      "execution_count": 8,
      "outputs": [
        {
          "output_type": "stream",
          "text": [
            "duration_coupon_values:  42.39216110401766\n",
            "present value :  99.35744494713597\n",
            "duration:  0.4266631567123409\n"
          ],
          "name": "stdout"
        }
      ]
    },
    {
      "cell_type": "markdown",
      "metadata": {
        "id": "hVyR81XAg6Rz",
        "colab_type": "text"
      },
      "source": [
        "\n",
        "#### Convexity:\n",
        "\n",
        "C = $\\frac{1}{P (1+y^2)} \\sum_{t=0}^n  {c_i} \\frac {(t^2 +t)}{(1+y)^t}$\n",
        "\n",
        "P: bond price\n",
        "\n",
        "t: period\n",
        "\n",
        "y: yield rate\n",
        "\n",
        "c: coupon value\n",
        "\n",
        "Convexity is a measure of the curvature, or the degree of the curve, in the relationship between bond prices and bond yields. So when yield change there is a change in the price of the bond"
      ]
    },
    {
      "cell_type": "code",
      "metadata": {
        "id": "tXJ1r_9CzDol",
        "colab_type": "code",
        "outputId": "73c9d84e-f705-4591-ad52-3ad9a9e49db2",
        "colab": {
          "base_uri": "https://localhost:8080/",
          "height": 34
        }
      },
      "source": [
        "\n",
        "\n",
        "def convexity(P, y, c, face_value,periods):  \n",
        "  calc_coupon_impact = lambda t, y: (t+t**2)/((1+y)**t) \n",
        "  cv = sum([\n",
        "      c * calc_coupon_impact(t, y )\n",
        "      for t in periods\n",
        "  ])\n",
        "  \n",
        "  fv =  face_value * calc_coupon_impact(periods[-1], y)\n",
        "  all_coupons = cv + fv\n",
        "  return (1 / (P + y **2) ) * all_coupons\n",
        "\n",
        "\n",
        "P = total_present_value(face_value, coupon, periods, rate)\n",
        "y = rate \n",
        "c = 5\n",
        "periods=np.linspace(0.5, 3, 6).tolist()\n",
        "conv = convexity(P, y, c, face_value,periods)\n",
        "print(\"Convexity: \", conv)"
      ],
      "execution_count": 25,
      "outputs": [
        {
          "output_type": "stream",
          "text": [
            "Convexity:  10.489066061361056\n"
          ],
          "name": "stdout"
        }
      ]
    },
    {
      "cell_type": "markdown",
      "metadata": {
        "id": "Sj_bW1rPzEnj",
        "colab_type": "text"
      },
      "source": [
        "### Estimate (with and without convexity) what would be the effect of a x% parallel shift of the yield curve when x equals 0.1% and 1%.\n",
        "\n",
        "**Answer**\n",
        "\n",
        "There are trhee ways to estimate the price change of a bond depending on the yield difference :\n",
        "- 1st way without convexity.\n",
        "With Duration: $ \\frac{\\delta  B}{B}= - D \\delta y$\n"
      ]
    },
    {
      "cell_type": "code",
      "metadata": {
        "id": "2faraIgLA7um",
        "colab_type": "code",
        "outputId": "ebd1e6c6-4bd8-4643-8c06-fd9ba2cd3ef2",
        "colab": {
          "base_uri": "https://localhost:8080/",
          "height": 68
        }
      },
      "source": [
        "# duration based calculation\n",
        "yield_0 = 0.1 # 10%\n",
        "yield_1 = 0.001 # 0.1%\n",
        "yield_2 = 0.01 # 1%\n",
        "\n",
        "delta_yield = yield_1 - yield_0\n",
        "B= total_present_value(face_value, coupon, periods, rate)\n",
        "delta_B = lambda B,D,delta_yield : B* (-D) * delta_yield\n",
        "print(\"Duration based delta_B is \", delta_B(B,D,delta_yield))\n",
        "\n",
        "print()\n",
        "delta_yield = yield_2 - yield_0\n",
        "print(\"Duration based delta_B is \", delta_B(B,D,delta_yield))\n"
      ],
      "execution_count": 24,
      "outputs": [
        {
          "output_type": "stream",
          "text": [
            "Duration based delta_B is  5.344380280086631\n",
            "\n",
            "Duration based delta_B is  4.858527527351483\n"
          ],
          "name": "stdout"
        }
      ]
    },
    {
      "cell_type": "markdown",
      "metadata": {
        "id": "HBLOgzOghA7L",
        "colab_type": "text"
      },
      "source": [
        "- With convexity $Convexity\\_adjustment = Convexity    100 X (Dy)2$\n"
      ]
    },
    {
      "cell_type": "code",
      "metadata": {
        "id": "0kg5BAg6hAR-",
        "colab_type": "code",
        "colab": {
          "base_uri": "https://localhost:8080/",
          "height": 119
        },
        "outputId": "95709a09-457d-423d-eb15-9494ced6cea3"
      },
      "source": [
        "#Convexity adjustment\n",
        "print(\"Convexity adjustment\") \n",
        "print(\"rate change from 10% to ---> \")\n",
        "print()\n",
        "\n",
        "conv_adj = lambda C, Dy : C *100* Dy *2\n",
        "Dy = 0.1 - 0.001\n",
        "print(\" - 0.1% effect\", conv_adj(conv,Dy))\n",
        "print()\n",
        "Dy = 0.1 - 0.01\n",
        "print(\" - 1  % effect\", conv_adj(conv,Dy))"
      ],
      "execution_count": 27,
      "outputs": [
        {
          "output_type": "stream",
          "text": [
            "Convexity adjustment\n",
            "rate change from 10% to ---> \n",
            "\n",
            " - 0.1% effect 207.68350801494893\n",
            "\n",
            " - 1  % effect 188.80318910449904\n"
          ],
          "name": "stdout"
        }
      ]
    },
    {
      "cell_type": "markdown",
      "metadata": {
        "id": "x0VFuxjThAiR",
        "colab_type": "text"
      },
      "source": [
        "- Recalculating the total value of the bond all the coupon yield with the new rate as we see in the 1st exercise 9"
      ]
    },
    {
      "cell_type": "code",
      "metadata": {
        "id": "_lpT226AhArZ",
        "colab_type": "code",
        "colab": {
          "base_uri": "https://localhost:8080/",
          "height": 51
        },
        "outputId": "d5e48b89-6ede-430a-d392-45d912bd2ec6"
      },
      "source": [
        "# coupon calculation\n",
        "face_value = 100\n",
        "coupon = 5\n",
        "periods = np.linspace(0.5, 3, 6).tolist()\n",
        "rate = 0.001\n",
        "\n",
        "pv = total_present_value(face_value, coupon, periods, rate)\n",
        "print(\"total coupon adjusted 0.1%: \", pv)\n",
        "\n",
        "rate = 0.01\n",
        "\n",
        "pv = total_present_value(face_value, coupon, periods, rate)\n",
        "print(\"total coupon adjusted   1%: \", pv)"
      ],
      "execution_count": 23,
      "outputs": [
        {
          "output_type": "stream",
          "text": [
            "total coupon adjusted 0.1%:  129.6480063794294\n",
            "total coupon adjusted   1%:  126.52519521199336\n"
          ],
          "name": "stdout"
        }
      ]
    },
    {
      "cell_type": "markdown",
      "metadata": {
        "id": "d_1sD44KA76m",
        "colab_type": "text"
      },
      "source": [
        "- Compare your answer to the exact values.\n",
        "\n",
        "\n",
        "If computing the exact value is so simple, why bothering using an approximation through\n",
        "duration ?\n",
        "\n",
        "**Answer**\n",
        "\n",
        "Asing an approximation through\n",
        "duration can be useful for many data.\n",
        "Unfortunately the 3 ways do not converge always.\n",
        "\n",
        "The most reliable is to recalculate the coupons each time but it is also the most ccomopuationaly expensive way so in big time series we might want to stay on convexity or duration based calculations."
      ]
    }
  ]
}