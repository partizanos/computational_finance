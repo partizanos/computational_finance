{
  "nbformat": 4,
  "nbformat_minor": 0,
  "metadata": {
    "colab": {
      "name": "TP12_Comp_Finance.ipynb",
      "version": "0.3.2",
      "provenance": [],
      "include_colab_link": true
    },
    "kernelspec": {
      "name": "python3",
      "display_name": "Python 3"
    }
  },
  "cells": [
    {
      "cell_type": "markdown",
      "metadata": {
        "id": "view-in-github",
        "colab_type": "text"
      },
      "source": [
        "<a href=\"https://colab.research.google.com/github/partizanos/computational_finance/blob/master/TP12_Comp_Finance.ipynb\" target=\"_parent\"><img src=\"https://colab.research.google.com/assets/colab-badge.svg\" alt=\"Open In Colab\"/></a>"
      ]
    },
    {
      "cell_type": "markdown",
      "metadata": {
        "id": "a26qDIomobyi",
        "colab_type": "text"
      },
      "source": [
        "# Series 12\n",
        "Introduction to Computational Finance\n",
        "DIMITRIS PROIOS\n",
        "\n",
        "## Bonds"
      ]
    },
    {
      "cell_type": "markdown",
      "metadata": {
        "id": "Up-YMzBIKIos",
        "colab_type": "text"
      },
      "source": [
        "\n",
        "### Using the same bond as last week, and assuming the required yield is 10%: A bond with 3 years maturity, a face value of 100$ and coupons of 10% paid semi-annually:\n",
        "\n",
        "|time [years] | coupon [CHF] \n",
        "|---|---| \n",
        "| 0.5 | 5\n",
        "| 1 | 5\n",
        "| 1.5 | 5\n",
        "| 2 | 5\n",
        "|2.5 | 5\n",
        "| 3 | 5\n",
        "\n",
        "\n",
        "### What is the present value of the bond ?\n",
        "\n",
        "**Answer**\n",
        "\n",
        "Value of bonds can be calculated with this formula:\n",
        "$B = (\\sum c e^{rt}) + P e^{rt}$\n",
        "\n",
        "By replacing with the data of our table the formula becomes:\n",
        "\n",
        "$B = 5 e^{-0.1 * 0.5} + 5 e^{-0.1* 1} +5 e^{-0.1 * 1.5} +5 e^{-0.1* 2} +5 e^{-0.1 * 2.5}  + 105 e^{-0.1 * 3}$\n"
      ]
    },
    {
      "cell_type": "code",
      "metadata": {
        "id": "1IczC6SF4mrn",
        "colab_type": "code",
        "outputId": "fe4d8c7c-ffb6-4bd3-e77e-b2fd14a7e49b",
        "colab": {
          "base_uri": "https://localhost:8080/",
          "height": 34
        }
      },
      "source": [
        "import numpy as np\n",
        "import math \n",
        "discount = lambda t, rate: np.power(np.e, (-t * rate))\n",
        "\n",
        "total_present_value = lambda face_value, coupons, periods, rate: sum(\n",
        "    [coupon * discount(t, rate) for t, coupon in zip(periods,coupons)]\n",
        ")\n",
        "\n",
        "face_value = 100\n",
        "coupons =  [ 5, 5, 5, 5, 5, 105]\n",
        "periods = np.linspace(0.5, 3, 6).tolist()\n",
        "y = 0.1\n",
        "\n",
        "present_value = total_present_value(face_value, coupons, periods, y)\n",
        "print(\"The bond value is: \", present_value)"
      ],
      "execution_count": 1,
      "outputs": [
        {
          "output_type": "stream",
          "text": [
            "The bond value is:  99.35744494713597\n"
          ],
          "name": "stdout"
        }
      ]
    },
    {
      "cell_type": "markdown",
      "metadata": {
        "id": "mZgexmepKk2g",
        "colab_type": "text"
      },
      "source": [
        "### Compute the duration and the convexity of the bond.\n",
        "\n",
        "**Answer**\n",
        "\n",
        "#### Duration:\n",
        "\n",
        "$D =\\frac{\\sum_{i=1}^{n} t_i c_i e^{-yt_i}}{B}  $ \n",
        "\n",
        "Duration also measures the price sensitivity to yield, the rate of change of price with respect to yield or the percentage change in price for a parallel shift in yields\n"
      ]
    },
    {
      "cell_type": "code",
      "metadata": {
        "id": "QPV0t-n2g3nk",
        "colab_type": "code",
        "colab": {
          "base_uri": "https://localhost:8080/",
          "height": 34
        },
        "outputId": "d9011e08-810e-4ada-8302-7660925448c8"
      },
      "source": [
        "D= sum(\n",
        "    [periods[i]*coupons[i]* math.exp((-y)*periods[i]  ) \n",
        "    for i in range(len(periods))]\n",
        ")/present_value\n",
        "\n",
        "print(\"The Bond duration is\", D ) \n"
      ],
      "execution_count": 2,
      "outputs": [
        {
          "output_type": "stream",
          "text": [
            "The Bond duration is 2.6634906669483684\n"
          ],
          "name": "stdout"
        }
      ]
    },
    {
      "cell_type": "markdown",
      "metadata": {
        "id": "hVyR81XAg6Rz",
        "colab_type": "text"
      },
      "source": [
        "\n",
        "#### Convexity:\n",
        "\n",
        "C =$ \\frac{\\partial ^2  B}{\\partial y^2} = \\sum_{t=1}^n  c_i t_i^2 e^{-yt_i}$\n",
        "\n",
        "\n",
        "B: bond price\n",
        "\n",
        "t: period\n",
        "\n",
        "y: yield rate\n",
        "\n",
        "c: coupon value\n",
        "\n",
        "Convexity is a measure of the curvature, or the degree of the curve, in the relationship between bond prices and bond yields. So when yield change there is a change in the price of the bond"
      ]
    },
    {
      "cell_type": "code",
      "metadata": {
        "id": "tXJ1r_9CzDol",
        "colab_type": "code",
        "outputId": "d1d217c7-76ae-458d-9cf4-2266a61248ed",
        "colab": {
          "base_uri": "https://localhost:8080/",
          "height": 34
        }
      },
      "source": [
        "convexity = sum([\n",
        "    coupons[i]*periods[i]**2 *math.exp((-y)*periods[i]) \n",
        "    for i in range(len(periods)) \n",
        "])\n",
        "\n",
        "print(\"Convexity\",convexity ) "
      ],
      "execution_count": 3,
      "outputs": [
        {
          "output_type": "stream",
          "text": [
            "Convexity 756.1815466823521\n"
          ],
          "name": "stdout"
        }
      ]
    },
    {
      "cell_type": "markdown",
      "metadata": {
        "id": "Sj_bW1rPzEnj",
        "colab_type": "text"
      },
      "source": [
        "### Estimate (with and without convexity) what would be the effect of a x% parallel shift of the yield curve when x equals 0.1% and 1%.\n",
        "\n",
        "**Answer**\n",
        "\n",
        "There are trhee ways to estimate the price change of a bond depending on the yield difference :\n",
        "#### 1st way without convexity using duration:\n",
        "\n",
        "$ \\frac{\\delta  B}{B}= - D \\delta y$\n",
        "\n",
        "$ \\delta  B= -B D \\delta y$\n"
      ]
    },
    {
      "cell_type": "code",
      "metadata": {
        "id": "2faraIgLA7um",
        "colab_type": "code",
        "outputId": "ab0d8ef7-1155-4eec-81db-7eac1047de21",
        "colab": {
          "base_uri": "https://localhost:8080/",
          "height": 136
        }
      },
      "source": [
        "delta_B = lambda B,D,Dy : B* (-D) * Dy\n",
        "Dy = 0.1 - 0.001\n",
        "print(present_value,D,Dy )\n",
        "print(\" - new y: 0.1%:\", delta_B( present_value,D,Dy ))\n",
        "print(\"New price: \", present_value - delta_B( present_value,D,Dy ))\n",
        "print()\n",
        "Dy = 0.1 - 0.01\n",
        "print(present_value,D,Dy )\n",
        "print(\" - new y: 1  %:\", delta_B(  present_value,D,Dy  ))\n",
        "print(\"New price: \", present_value - delta_B( present_value,D,Dy ))\n"
      ],
      "execution_count": 4,
      "outputs": [
        {
          "output_type": "stream",
          "text": [
            "99.35744494713597 2.6634906669483684 0.099\n",
            " - new y: 0.1%: -26.19912510354477\n",
            "New price:  125.55657005068075\n",
            "\n",
            "99.35744494713597 2.6634906669483684 0.09000000000000001\n",
            " - new y: 1  %: -23.817386457767974\n",
            "New price:  123.17483140490395\n"
          ],
          "name": "stdout"
        }
      ]
    },
    {
      "cell_type": "markdown",
      "metadata": {
        "id": "_PLDLj6wn8Cx",
        "colab_type": "text"
      },
      "source": [
        "### Recalculation using face value"
      ]
    },
    {
      "cell_type": "code",
      "metadata": {
        "id": "AlW_uOqJocwI",
        "colab_type": "code",
        "colab": {
          "base_uri": "https://localhost:8080/",
          "height": 51
        },
        "outputId": "bba02251-93e9-477c-987b-3627aad62448"
      },
      "source": [
        "rate = 0.001\n",
        "\n",
        "pv = total_present_value(face_value, coupons, periods, rate)\n",
        "print(\"total coupon adjusted 0.1%: \", pv)\n",
        "\n",
        "rate = 0.01\n",
        "\n",
        "pv = total_present_value(face_value, coupons, periods, rate)\n",
        "print(\"total coupon adjusted   1%: \", pv)"
      ],
      "execution_count": 6,
      "outputs": [
        {
          "output_type": "stream",
          "text": [
            "total coupon adjusted 0.1%:  129.6480063794294\n",
            "total coupon adjusted   1%:  126.52519521199336\n"
          ],
          "name": "stdout"
        }
      ]
    },
    {
      "cell_type": "markdown",
      "metadata": {
        "id": "HBLOgzOghA7L",
        "colab_type": "text"
      },
      "source": [
        "#### With convexity \n",
        "\n",
        "C =$ \\frac{\\partial^2  B}{\\partial y^2} $\n",
        "\n",
        "= > $ \\partial^2  B = \\partial y^2 C$\n",
        "\n",
        "\n",
        "\n",
        "$\\delta B = B [ \\frac{C}{2} (\\delta t)^2 - D \\delta r ] $\n",
        "source: https://en.wikipedia.org/wiki/Bond_convexity"
      ]
    },
    {
      "cell_type": "code",
      "metadata": {
        "id": "0kg5BAg6hAR-",
        "colab_type": "code",
        "colab": {
          "base_uri": "https://localhost:8080/",
          "height": 119
        },
        "outputId": "9e387201-42a5-4235-b250-0b50f5f68230"
      },
      "source": [
        "#Convexity adjustment\n",
        "print(\"Convexity\",convexity )\n",
        "# conv_adj = lambda C, Dy : convexity * Dy**2\n",
        "conv_adj = lambda B, C, dy : (C/2)  * Dy**2 - D *dy\n",
        "\n",
        "Dy = 0.1 - 0.001\n",
        "\n",
        "print(\" - Dy:           \",Dy,)\n",
        "print(\" - new y: 0.1%:\", conv_adj(present_value, convexity,Dy))\n",
        "print()\n",
        "Dy = 0.1 - 0.01\n",
        "print(\" - Dy:         \",Dy,)\n",
        "print(\" - new y: 1  %: \", conv_adj(present_value, convexity,Dy))"
      ],
      "execution_count": 15,
      "outputs": [
        {
          "output_type": "stream",
          "text": [
            "Convexity 756.1815466823521\n",
            " - Dy:            0.099\n",
            " - new y: 0.1%: 3.4419820934889778\n",
            "\n",
            " - Dy:          0.09000000000000001\n",
            " - new y: 1  %:  2.822821104038173\n"
          ],
          "name": "stdout"
        }
      ]
    },
    {
      "cell_type": "markdown",
      "metadata": {
        "id": "d_1sD44KA76m",
        "colab_type": "text"
      },
      "source": [
        "## Compare your answer to the exact values.\n",
        "\n",
        "The results are not the same.\n",
        "\n",
        "\n",
        "## If computing the exact value is so simple, why bothering using an approximation through\n",
        "duration ?\n",
        "\n",
        "**Answer**\n",
        "\n",
        "Asing an approximation through\n",
        "duration can be useful for many data.\n",
        "Unfortunately the 3 ways do not converge always.\n",
        "\n",
        "The most reliable is to recalculate the coupons each time but it is also the most ccomopuationaly expensive way so in big time series we might want to stay on convexity or duration based calculations."
      ]
    }
  ]
}