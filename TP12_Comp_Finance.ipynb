{
  "nbformat": 4,
  "nbformat_minor": 0,
  "metadata": {
    "colab": {
      "name": "TP12_Comp_Finance.ipynb",
      "version": "0.3.2",
      "provenance": [],
      "include_colab_link": true
    },
    "kernelspec": {
      "name": "python3",
      "display_name": "Python 3"
    }
  },
  "cells": [
    {
      "cell_type": "markdown",
      "metadata": {
        "id": "view-in-github",
        "colab_type": "text"
      },
      "source": [
        "<a href=\"https://colab.research.google.com/github/partizanos/computational_finance/blob/master/TP12_Comp_Finance.ipynb\" target=\"_parent\"><img src=\"https://colab.research.google.com/assets/colab-badge.svg\" alt=\"Open In Colab\"/></a>"
      ]
    },
    {
      "cell_type": "markdown",
      "metadata": {
        "id": "Up-YMzBIKIos",
        "colab_type": "text"
      },
      "source": [
        "Series 12\n",
        "Introduction to Computational Finance\n",
        "DIMITRIS PROIOS\n",
        "\n",
        "## Bonds\n",
        "Using the same bond as last week, and assuming the required yield is 10%: A bond with\n",
        "3 years maturity, a face value of 100$ and coupons of 10% paid semi-annually:\n",
        "\n",
        "|time [years] | coupon [CHF] \n",
        "|---|---| \n",
        "| 0.5 | 5\n",
        "| 1 | 5\n",
        "| 1.5 | 5\n",
        "| 2 | 5\n",
        "|2.5 | 5\n",
        "| 3 | 5\n",
        "\n",
        "\n",
        "- What is the present value of the bond ?\n",
        "\n",
        "**Answer**\n",
        "\n",
        "Value of bonds can be calculated with this formula:\n",
        "$B = (\\sum c e^{rt}) + P e^{rt}$\n",
        "\n",
        "By replacing with the data of our table the formula becomes:\n",
        "\n",
        "$B = 5 e^{-0.1 * 0.5} + 5 e^{-0.1* 1} +5 e^{-0.1 * 1.5} +5 e^{-0.1* 2} +5 e^{-0.1 * 2.5}  + 105 e^{-0.1 * 3}$\n"
      ]
    },
    {
      "cell_type": "code",
      "metadata": {
        "id": "1IczC6SF4mrn",
        "colab_type": "code",
        "colab": {
          "base_uri": "https://localhost:8080/",
          "height": 87
        },
        "outputId": "c30f4443-4e56-4984-dd67-ed2ae7848221"
      },
      "source": [
        "import numpy as np\n",
        "\n",
        "discount = lambda n, rate: np.power(np.e, (-n * rate))\n",
        "\n",
        "coupon_values = lambda coupon, periods: sum(\n",
        "    [coupon * discount(n, rate) for n in periods]\n",
        ")\n",
        "\n",
        "def total_present_value(face_value, coupon, periods, rate):\n",
        "    cv = coupon_values(coupon, periods)\n",
        "    print(\"coupon values: \", cv )\n",
        "    last_payment = face_value * discount(periods[-1], rate)\n",
        "    print(\"last_payment: \", last_payment)\n",
        "    total_pv = cv + last_payment \n",
        "    print(\"total_pv: \", total_pv)\n",
        "    \n",
        "    return total_pv \n",
        "\n",
        "\n",
        "face_value = 100\n",
        "coupon = 5\n",
        "periods = np.linspace(0.5, 3, 6).tolist()\n",
        "rate = 0.05\n",
        "\n",
        "total_present_value(face_value, coupon, periods, rate)\n"
      ],
      "execution_count": 34,
      "outputs": [
        {
          "output_type": "stream",
          "text": [
            "coupon values:  27.51162559951606\n",
            "last_payment:  86.07079764250578\n",
            "total_pv:  113.58242324202183\n"
          ],
          "name": "stdout"
        },
        {
          "output_type": "execute_result",
          "data": {
            "text/plain": [
              "113.58242324202183"
            ]
          },
          "metadata": {
            "tags": []
          },
          "execution_count": 34
        }
      ]
    },
    {
      "cell_type": "markdown",
      "metadata": {
        "id": "mZgexmepKk2g",
        "colab_type": "text"
      },
      "source": [
        "- Compute the duration and the convexity of the bond.\n"
      ]
    },
    {
      "cell_type": "code",
      "metadata": {
        "id": "tXJ1r_9CzDol",
        "colab_type": "code",
        "colab": {
          "base_uri": "https://localhost:8080/",
          "height": 35
        },
        "outputId": "3576653c-1197-4f73-b784-c7bf549c4af7"
      },
      "source": [
        "def duration(bond_facevalue, time):\n",
        "  retun res\n",
        "#Duration of bond\n",
        "dur_bond=100\n",
        "\n",
        "\n",
        "print(\"Duration of bond \", dur_bond)"
      ],
      "execution_count": 1,
      "outputs": [
        {
          "output_type": "stream",
          "text": [
            "Duration of bond  100\n"
          ],
          "name": "stdout"
        }
      ]
    },
    {
      "cell_type": "markdown",
      "metadata": {
        "id": "Sj_bW1rPzEnj",
        "colab_type": "text"
      },
      "source": [
        "- Estimate (with and without convexity) what would be the effect of a x% parallel\n",
        "shift of the yield curve when x equals 0.1% and 1%.\n",
        "- Compare your answer to the exact values.\n",
        "\n",
        "\n",
        "If computing the exact value is so simple, why bothering using an approximation through\n",
        "duration ?"
      ]
    }
  ]
}