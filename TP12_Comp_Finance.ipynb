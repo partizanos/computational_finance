{
  "nbformat": 4,
  "nbformat_minor": 0,
  "metadata": {
    "colab": {
      "name": "TP12_Comp_Finance.ipynb",
      "version": "0.3.2",
      "provenance": [],
      "include_colab_link": true
    },
    "kernelspec": {
      "name": "python3",
      "display_name": "Python 3"
    }
  },
  "cells": [
    {
      "cell_type": "markdown",
      "metadata": {
        "id": "view-in-github",
        "colab_type": "text"
      },
      "source": [
        "<a href=\"https://colab.research.google.com/github/partizanos/computational_finance/blob/master/TP12_Comp_Finance.ipynb\" target=\"_parent\"><img src=\"https://colab.research.google.com/assets/colab-badge.svg\" alt=\"Open In Colab\"/></a>"
      ]
    },
    {
      "cell_type": "markdown",
      "metadata": {
        "id": "Up-YMzBIKIos",
        "colab_type": "text"
      },
      "source": [
        "Series 12\n",
        "Introduction to Computational Finance\n",
        "DIMITRIS PROIOS\n",
        "\n",
        "## Bonds\n",
        "### Using the same bond as last week, and assuming the required yield is 10%: A bond with 3 years maturity, a face value of 100$ and coupons of 10% paid semi-annually:\n",
        "\n",
        "|time [years] | coupon [CHF] \n",
        "|---|---| \n",
        "| 0.5 | 5\n",
        "| 1 | 5\n",
        "| 1.5 | 5\n",
        "| 2 | 5\n",
        "|2.5 | 5\n",
        "| 3 | 5\n",
        "\n",
        "\n",
        "### What is the present value of the bond ?\n",
        "\n",
        "**Answer**\n",
        "\n",
        "Value of bonds can be calculated with this formula:\n",
        "$B = (\\sum c e^{rt}) + P e^{rt}$\n",
        "\n",
        "By replacing with the data of our table the formula becomes:\n",
        "\n",
        "$B = 5 e^{-0.1 * 0.5} + 5 e^{-0.1* 1} +5 e^{-0.1 * 1.5} +5 e^{-0.1* 2} +5 e^{-0.1 * 2.5}  + 105 e^{-0.1 * 3}$\n"
      ]
    },
    {
      "cell_type": "code",
      "metadata": {
        "id": "1IczC6SF4mrn",
        "colab_type": "code",
        "colab": {
          "base_uri": "https://localhost:8080/",
          "height": 35
        },
        "outputId": "064e5908-7529-40b3-ee94-5467c4a08e14"
      },
      "source": [
        "import numpy as np\n",
        "\n",
        "discount = lambda n, rate: np.power(np.e, (-n * rate))\n",
        "\n",
        "coupon_values = lambda coupon, periods: sum(\n",
        "    [coupon * discount(n, rate) for n in periods]\n",
        ")\n",
        "\n",
        "def total_present_value(face_value, coupon, periods, rate):\n",
        "    cv = coupon_values(coupon, periods)\n",
        "    #print(\"coupon values: \", cv )\n",
        "    \n",
        "    last_payment = face_value * discount(periods[-1], rate)\n",
        "    #print(\"last_payment: \", last_payment)\n",
        "    \n",
        "    total_pv = cv + last_payment \n",
        "    \n",
        "    \n",
        "    return total_pv \n",
        "\n",
        "\n",
        "face_value = 100\n",
        "coupon = 5\n",
        "periods = np.linspace(0.5, 3, 6).tolist()\n",
        "rate = 0.1\n",
        "\n",
        "pv = total_present_value(face_value, coupon, periods, rate)\n",
        "print(\"total_pv: \", pv)"
      ],
      "execution_count": 53,
      "outputs": [
        {
          "output_type": "stream",
          "text": [
            "total_pv:  99.35744494713597\n"
          ],
          "name": "stdout"
        }
      ]
    },
    {
      "cell_type": "markdown",
      "metadata": {
        "id": "mZgexmepKk2g",
        "colab_type": "text"
      },
      "source": [
        "### Compute the duration and the convexity of the bond.\n",
        "\n",
        "**Answer**\n",
        "\n",
        "- Duration:\n",
        "\n",
        "$D =\\frac{\\sum_{i=1}^{n} t_i c_i e^{-yt_i}}{B}  $ \n",
        "\n",
        "- Convexity:\n",
        "\n",
        "C = $\\frac{1}{P (1+y^2)} \\sum_{t=0}^n  {c_i} \\frac {(t^2 +t)}{(1+y)^t}$\n",
        "\n",
        "P: bond price\n",
        "\n",
        "t: period\n",
        "\n",
        "y: yield rate\n",
        "\n",
        "c: coupon value\n",
        "\n",
        "Convexity is a measure of the curvature, or the degree of the curve, in the relationship between bond prices and bond yields. So when yield change there is a change in the price of the bond"
      ]
    },
    {
      "cell_type": "code",
      "metadata": {
        "id": "tXJ1r_9CzDol",
        "colab_type": "code",
        "colab": {
          "base_uri": "https://localhost:8080/",
          "height": 87
        },
        "outputId": "f8abc829-2259-4972-82a5-cbe459e26162"
      },
      "source": [
        "discount = lambda t, rate: np.power(np.e, (-t * rate))\n",
        "duration_coupon_values = lambda coupon, periods: sum([t * coupon * discount(t, rate) for t in periods])\n",
        "\n",
        "\n",
        "def duration(face_value, coupon, periods, rate):\n",
        "  duration_cv = duration_coupon_values(coupon, periods)\n",
        "  \n",
        "  tv = total_present_value(face_value, coupon, periods, rate)\n",
        "  \n",
        "  duration = duration_cv / tv\n",
        "  \n",
        "  print(\"duration_coupon_values: \", duration_cv)\n",
        "  print(\"present value : \", tv)\n",
        "  print(\"duration: \", duration)\n",
        "  \n",
        "  return duration\n",
        "  \n",
        "#Duration of bond\n",
        "dur_bond=duration(face_value, coupon, periods, rate)\n",
        "\n",
        "\n",
        "def convexity(P, y, c, face_value,periods):  \n",
        "  calc_coupon_impact = lambda t, y: (t+t**2)/((1+y)**t) \n",
        "  cv = sum([\n",
        "      c * calc_coupon_impact(t, y )\n",
        "      for t in periods\n",
        "  ])\n",
        "  \n",
        "  fv =  face_value * calc_coupon_impact(periods[-1], y)\n",
        "  all_coupons = cv + fv\n",
        "  return (1 / (P + y **2) ) * all_coupons\n",
        "\n",
        "\n",
        "P = total_present_value(face_value, coupon, periods, rate)\n",
        "y = rate \n",
        "c = 5\n",
        "periods=np.linspace(0.5, 3, 6).tolist()\n",
        "conv = convexity(P, y, c, face_value,periods)\n",
        "print(\"convexity: \", conv)"
      ],
      "execution_count": 57,
      "outputs": [
        {
          "output_type": "stream",
          "text": [
            "duration_coupon_values:  42.39216110401766\n",
            "present value :  99.35744494713597\n",
            "duration:  0.4266631567123409\n",
            "convexity:  10.414306271249705\n"
          ],
          "name": "stdout"
        }
      ]
    },
    {
      "cell_type": "markdown",
      "metadata": {
        "id": "Sj_bW1rPzEnj",
        "colab_type": "text"
      },
      "source": [
        "### Estimate (with and without convexity) what would be the effect of a x% parallel shift of the yield curve when x equals 0.1% and 1%.\n",
        "\n",
        "**Answer**\n",
        "\n",
        "Convexity_adjustment = Convexity X 100 X (Dy)2"
      ]
    },
    {
      "cell_type": "code",
      "metadata": {
        "id": "2faraIgLA7um",
        "colab_type": "code",
        "colab": {
          "base_uri": "https://localhost:8080/",
          "height": 52
        },
        "outputId": "5c27fd74-47b4-45bc-fa43-5dd1e1210c8e"
      },
      "source": [
        "conv_adj = lambda C, Dy : C *100* Dy *2\n",
        "Dy = 0.1 - 0.001\n",
        "\n",
        "print(\"0.1% effect\", conv_adj(conv,Dy))\n",
        "Dy = 0.1 - 0.01\n",
        "print(\"1% effect\", conv_adj(conv,Dy))"
      ],
      "execution_count": 61,
      "outputs": [
        {
          "output_type": "stream",
          "text": [
            "0.1% effect 206.20326417074415\n",
            "1% effect 187.4575128824947\n"
          ],
          "name": "stdout"
        }
      ]
    },
    {
      "cell_type": "markdown",
      "metadata": {
        "id": "d_1sD44KA76m",
        "colab_type": "text"
      },
      "source": [
        "- Compare your answer to the exact values.\n",
        "\n",
        "\n",
        "If computing the exact value is so simple, why bothering using an approximation through\n",
        "duration ?"
      ]
    }
  ]
}