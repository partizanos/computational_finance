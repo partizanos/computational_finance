{
 "cells": [
  {
   "cell_type": "code",
   "execution_count": 366,
   "metadata": {
    "collapsed": true,
    "pycharm": {
     "is_executing": false
    }
   },
   "outputs": [
    {
     "name": "stdout",
     "text": [
      "EX 1.1: the value of this call at t = 0 IS c =  3.247477416560816\n"
     ],
     "output_type": "stream"
    }
   ],
   "source": [
    "import numpy as np\n",
    "import scipy.stats as si\n",
    "\n",
    "def Black_Scholes_Algo(S, K, T, r, sigma):\n",
    "\t    #S: spot price\n",
    "\t    #K: strike price\n",
    "\t    #T: time to maturity\n",
    "\t    #r: interest rate\n",
    "\t    #sigma: volatility of underlying asset\n",
    "\t    d1 = (np.log(S / K) + (r + 0.5 * sigma ** 2) * T) / (sigma * np.sqrt(T))\n",
    "\t    d2 = (np.log(S / K) + (r - 0.5 * sigma ** 2) * T) / (sigma * np.sqrt(T))\n",
    "\t    \n",
    "\t    call = (S * si.norm.cdf(d1, 0.0, 1.0) - K * np.exp(\n",
    "            -r * T) * si.norm.cdf(d2, 0.0, 1.0))\n",
    "\t    return call\n",
    "# current stock price \n",
    "S0 = 100; S = S0\n",
    "# initial time\n",
    "\n",
    "t0 = 0\n",
    "# time until option experiance,\n",
    "call_maturiy_T = 1;\n",
    "t = call_maturiy_T\n",
    "#steady; risk-free-rate\n",
    "r=0.05\n",
    "# K = Options striking pruce\n",
    "K = 120\n",
    "volatility_sigma = 0.2; s = volatility_sigma\n",
    "C = Black_Scholes_Algo(S,K,t,r,s)\n",
    "print(\"EX 1.1: the value of this call at t = 0 IS c = \", C)\n"
   ]
  },
  {
   "cell_type": "markdown",
   "source": [
    "\t    \"\"\"\n",
    "\t    N = number of binomial iterations\n",
    "\t     / tree deth\n",
    "\t    S0 = initial stock price\n",
    "\t    u = factor change of upstate\n",
    "\t    /volatility\n",
    "\t    r = risk free interest rate per annum\n",
    "\t    K = strike price\"\"\"\n",
    "        "
   ],
   "metadata": {
    "collapsed": false,
    "pycharm": {
     "name": "#%% md\n"
    }
   }
  },
  {
   "cell_type": "code",
   "execution_count": 367,
   "outputs": [],
   "source": [
    "\n",
    "# binomial tree to determine the call option value.\n",
    "# according to pages 3 and 4 of https://pdfs.semanticscholar.org/c04c/7cf10756da8424a31061ef8cd52a42bbe1bd.pdf\n",
    "def binomial_model(N, S0, s, r, K, t_maturity):\n",
    "    t=t_maturity/N\n",
    "    u = np.e**(s*np.sqrt(t))\n",
    "    d = np.e**(-s*np.sqrt(t))\n",
    "    p = (np.e**(r*t) - d ) / (u-d); \n",
    "    stock = np.zeros([N + 1, N + 1])\n",
    "    \n",
    "    stock[0][0] = S0\n",
    "    \n",
    "    for i in range(1, N + 1):\n",
    "        for j in range(0, i + 1):\n",
    "            stock[j, i] = S0 * (u ** j) * (d ** (i-j))\n",
    "\n",
    "    option = np.zeros([N + 1, N + 1])\n",
    "    stock_max = stock[:,N]\n",
    "    for j in range(N+1):\n",
    "        option[:, j] = np.maximum(\n",
    "            np.zeros(N+1), \n",
    "            (stock_max[j] - K)\n",
    "        )\n",
    "        \n",
    "    for i in range(N-1, -1, -1):\n",
    "        for j in range(0,i+1):\n",
    "            option[i,j] = (np.e**(-r * t) )* (p * option[i+1,j+1] + (1 - p) * option[i+1,j])\n",
    "\n",
    "    return option[0][0]\n",
    "\n",
    "\n",
    "# current stock price\n",
    "S0 = 100\n",
    "# initial time\n",
    "t0 = 0\n",
    "# time until option experiance,\n",
    "call_maturiy_T = 1;\n",
    "#steady; risk-free-rate\n",
    "r=0.05\n",
    "# K = Options striking pruce\n",
    "K = 120\n",
    "s = 0.2\n",
    "max_tree_depth = 300\n",
    "# binomial_model(max_tree_depth, S0, s, r, K, call_maturiy_T)\n",
    "tree_depths = [ x for x in range(1, max_tree_depth)] \n",
    "models = [\n",
    "\t binomial_model(N, S0, s, r, K, call_maturiy_T)\n",
    "\t for N in tree_depths\n",
    "]\n",
    "\n"
   ],
   "metadata": {
    "collapsed": false,
    "pycharm": {
     "name": "#%% \n",
     "is_executing": false
    }
   }
  },
  {
   "cell_type": "markdown",
   "source": [
    "According to theory the binomial model the binomial \n",
    "converges on the Black–Scholes formula value as the number of time steps increases.\n",
    "The following convergence can be seen below too \n"
   ],
   "metadata": {
    "collapsed": false,
    "pycharm": {
     "name": "#%% md\n"
    }
   }
  },
  {
   "cell_type": "code",
   "execution_count": 365,
   "outputs": [
    {
     "data": {
      "text/plain": "[<matplotlib.lines.Line2D at 0x7fe70647c898>]"
     },
     "metadata": {},
     "output_type": "execute_result",
     "execution_count": 365
    },
    {
     "data": {
      "text/plain": "<Figure size 432x288 with 1 Axes>",
      "image/png": "[encoded data removed]"
     },
     "metadata": {
      "needs_background": "light"
     },
     "output_type": "display_data"
    }
   ],
   "source": [
    "import matplotlib.pyplot as plt\n",
    "plt.plot( tree_depths, models)\n",
    "plt.xlabel(\"tree depth\")\n",
    "plt.ylabel(\" call value\")\n",
    "plt.title(\" \")"
   ],
   "metadata": {
    "collapsed": false,
    "pycharm": {
     "name": "#%%\n",
     "is_executing": false
    }
   }
  }
 ],
 "metadata": {
  "language_info": {
   "codemirror_mode": {
    "name": "ipython",
    "version": 2
   },
   "file_extension": ".py",
   "mimetype": "text/x-python",
   "name": "python",
   "nbconvert_exporter": "python",
   "pygments_lexer": "ipython2",
   "version": "2.7.6"
  },
  "kernelspec": {
   "name": "pycharm-670c054d",
   "language": "python",
   "display_name": "PyCharm (advanced_image_processing)"
  },
  "pycharm": {
   "stem_cell": {
    "cell_type": "raw",
    "source": [],
    "metadata": {
     "collapsed": false
    }
   }
  }
 },
 "nbformat": 4,
 "nbformat_minor": 0
}