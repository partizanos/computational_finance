{
 "cells": [
  {
   "cell_type": "code",
   "execution_count": 2,
   "metadata": {
    "collapsed": true,
    "pycharm": {
     "is_executing": false
    }
   },
   "outputs": [
    {
     "name": "stdout",
     "text": [
      "EX 1.1: the value of this call at t = 0 IS c =  3.247477416560816\n"
     ],
     "output_type": "stream"
    }
   ],
   "source": [
    "import numpy as np\n",
    "import scipy.stats as si\n",
    "\n",
    "def Black_Scholes_Algo(S, K, T, r, sigma):\n",
    "\t    #S: spot price\n",
    "\t    #K: strike price\n",
    "\t    #T: time to maturity\n",
    "\t    #r: interest rate\n",
    "\t    #sigma: volatility of underlying asset\n",
    "\t    d1 = (np.log(S / K) + (r + 0.5 * sigma ** 2) * T) / (sigma * np.sqrt(T))\n",
    "\t    d2 = (np.log(S / K) + (r - 0.5 * sigma ** 2) * T) / (sigma * np.sqrt(T))\n",
    "\t    \n",
    "\t    call = (S * si.norm.cdf(d1, 0.0, 1.0) - K * np.exp(\n",
    "            -r * T) * si.norm.cdf(d2, 0.0, 1.0))\n",
    "\t    return call\n",
    "# current stock price \n",
    "S0 = 100; S = S0\n",
    "# initial time\n",
    "\n",
    "t0 = 0\n",
    "# time until option experiance,\n",
    "call_maturiy_T = 1;t = call_maturiy_T\n",
    "#steady; risk-free-rate\n",
    "r=0.05\n",
    "# K = Options striking pruce\n",
    "K = 120\n",
    "volatility_sigma = 0.2; s = volatility_sigma\n",
    "C = Black_Scholes_Algo(S,K,t,r,s)\n",
    "print(\"EX 1.1: the value of this call at t = 0 IS c = \", C)\n"
   ]
  },
  {
   "cell_type": "markdown",
   "source": [
    "\t    \"\"\"\n",
    "\t    N = number of binomial iterations\n",
    "\t     / tree deth\n",
    "\t    S0 = initial stock price\n",
    "\t    u = factor change of upstate\n",
    "\t    /volatility\n",
    "\t    r = risk free interest rate per annum\n",
    "\t    K = strike price\"\"\"\n",
    "        "
   ],
   "metadata": {
    "collapsed": false,
    "pycharm": {
     "name": "#%% md\n"
    }
   }
  },
  {
   "cell_type": "code",
   "execution_count": 79,
   "outputs": [
    {
     "name": "stdout",
     "text": [
      "0 0\n"
     ],
     "output_type": "stream"
    },
    {
     "ename": "IndexError",
     "traceback": [
      "\u001b[0;31m---------------------------------------------------------------------------\u001b[0m",
      "\u001b[0;31mIndexError\u001b[0m                                Traceback (most recent call last)",
      "\u001b[0;32m<ipython-input-79-37a77ce450ab>\u001b[0m in \u001b[0;36m<module>\u001b[0;34m\u001b[0m\n\u001b[1;32m     52\u001b[0m         \u001b[0;32mfor\u001b[0m \u001b[0mj\u001b[0m \u001b[0;32min\u001b[0m \u001b[0mrange\u001b[0m\u001b[0;34m(\u001b[0m\u001b[0;36m0\u001b[0m\u001b[0;34m,\u001b[0m \u001b[0mi\u001b[0m\u001b[0;34m+\u001b[0m\u001b[0;36m1\u001b[0m\u001b[0;34m)\u001b[0m\u001b[0;34m:\u001b[0m\u001b[0;34m\u001b[0m\u001b[0m\n\u001b[1;32m     53\u001b[0m             \u001b[0mprint\u001b[0m\u001b[0;34m(\u001b[0m\u001b[0mi\u001b[0m\u001b[0;34m,\u001b[0m\u001b[0mj\u001b[0m\u001b[0;34m)\u001b[0m\u001b[0;34m\u001b[0m\u001b[0m\n\u001b[0;32m---> 54\u001b[0;31m             \u001b[0mpath\u001b[0m\u001b[0;34m.\u001b[0m\u001b[0mappend\u001b[0m\u001b[0;34m(\u001b[0m\u001b[0mstock\u001b[0m\u001b[0;34m[\u001b[0m\u001b[0mi\u001b[0m\u001b[0;34m]\u001b[0m\u001b[0;34m[\u001b[0m\u001b[0mj\u001b[0m\u001b[0;34m]\u001b[0m\u001b[0;34m)\u001b[0m\u001b[0;34m\u001b[0m\u001b[0m\n\u001b[0m\u001b[1;32m     55\u001b[0m     \u001b[0mpaths\u001b[0m\u001b[0;34m.\u001b[0m\u001b[0mappend\u001b[0m\u001b[0;34m(\u001b[0m\u001b[0mpath\u001b[0m\u001b[0;34m)\u001b[0m\u001b[0;34m\u001b[0m\u001b[0m\n",
      "\u001b[0;31mIndexError\u001b[0m: invalid index to scalar variable."
     ],
     "evalue": "invalid index to scalar variable.",
     "output_type": "error"
    }
   ],
   "source": [
    "# binomial tree to determine the call option value.\n",
    "\n",
    "def binomial_model(N, S0, s, r, K):\n",
    "    u = np.power(np.e,s*np.sqrt(t))\n",
    "    d = 1 / u\n",
    "    p = (1 + r - d) / (u - d)\n",
    "    q = 1 - p\n",
    "    \n",
    "    stock = np.zeros([N + 1, N + 1])\n",
    "    for i in range(N + 1):\n",
    "        for j in range(i + 1):\n",
    "            stock[j, i] = S0 * (u ** (i - j)) * (d ** j)\n",
    "\t# Generate option prices recursively\n",
    "    option = np.zeros([N + 1, N + 1])\n",
    "    \n",
    "    option[:, N] = np.maximum(\n",
    "        np.zeros(N + 1), (\n",
    "        stock[:, N] - K)\n",
    "    )\n",
    "    for i in range(N-1, -1, -1):\n",
    "        for j in range(0, i+1):\n",
    "\t        option[j, i] = (1 / (1 + r) * (p * option[j, i + 1] + q * option[j + 1, i + 1]))\n",
    "\n",
    "    return stock, option\n",
    "\n",
    "# current stock price\n",
    "S0 = 100\n",
    "# initial time\n",
    "t0 = 0\n",
    "# time until option experiance,\n",
    "call_maturiy_T = 1;t = call_maturiy_T\n",
    "#steady; risk-free-rate\n",
    "r=0.05\n",
    "# K = Options striking pruce\n",
    "K = 120\n",
    "s = 0.2\n",
    "max_tree_depth = 6\n",
    "\n",
    "tree_depths = [ x for x in range(1, max_tree_depth)] \n",
    "models = [\n",
    "\t binomial_model(N, S0, s, r, K)\n",
    "\t for N in tree_depths\n",
    "]\n",
    "\n",
    "paths = []\n",
    "for m in models:\n",
    "    stocks = m[0]\n",
    "    options = m[1]\n",
    "    path = []\n",
    "    last_path = 0 \n",
    "    for i, stock in enumerate(stocks):\n",
    "        for j in range(0, i+1):\n",
    "            print(i,j)\n",
    "            path.append(stock[i])\n",
    "    paths.append(path)"
   ],
   "metadata": {
    "collapsed": false,
    "pycharm": {
     "name": "#%% \n",
     "is_executing": false
    }
   }
  },
  {
   "cell_type": "code",
   "execution_count": null,
   "outputs": [],
   "source": [
    "# N=5\n",
    "# for i in range(N - 1, -1, -1):\n",
    "#     for j in range(0, i + 1):\n",
    "#         print(i,j)\n",
    "#         options[j]\n",
    "        # print(options[i,j])\n",
    "\n",
    "        \n",
    "# len(call_estimated_values[0])\n",
    "# len(call_estimated_values[2])\n",
    "\n",
    "# # for level in range(len(call_estimated_values)):\n",
    "# print(len(call_estimated_values))\n",
    "# \n",
    "# arr = [call_estimated_values[0][0],\n",
    "#         call_estimated_values[1][0],\n",
    "#         call_estimated_values[1][0][0]\n",
    "# \n",
    "# call_estimated_values[0]\n",
    "# arr =[]\n",
    "# arr.append.call_estimated_values[0][0][0]\n",
    "# arr.append.call_estimated_values[0][1][0]\n",
    "# arr.append.call_estimated_values[1][0][0]\n",
    "# arr.append.call_estimated_values[1][0][0]\n",
    "# arr =call_estimated_values[1][0]\n",
    "# import matplotlib.pyplot as plt\n",
    "# plt.plot(arr, tree_depths)\n",
    "# arr\n",
    "# \n"
   ],
   "metadata": {
    "collapsed": false,
    "pycharm": {
     "name": "#%% \n"
    }
   }
  }
 ],
 "metadata": {
  "language_info": {
   "codemirror_mode": {
    "name": "ipython",
    "version": 2
   },
   "file_extension": ".py",
   "mimetype": "text/x-python",
   "name": "python",
   "nbconvert_exporter": "python",
   "pygments_lexer": "ipython2",
   "version": "2.7.6"
  },
  "kernelspec": {
   "name": "pycharm-670c054d",
   "language": "python",
   "display_name": "PyCharm (advanced_image_processing)"
  },
  "pycharm": {
   "stem_cell": {
    "cell_type": "raw",
    "source": [],
    "metadata": {
     "collapsed": false
    }
   }
  }
 },
 "nbformat": 4,
 "nbformat_minor": 0
}