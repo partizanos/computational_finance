{
 "cells": [
  {
   "cell_type": "code",
   "execution_count": 135,
   "metadata": {
    "collapsed": true,
    "pycharm": {
     "is_executing": false
    }
   },
   "outputs": [
    {
     "name": "stdout",
     "text": [
      "EX 1.1: the value of this call at t = 0 IS c =  3.247477416560816\n"
     ],
     "output_type": "stream"
    }
   ],
   "source": [
    "import numpy as np\n",
    "import scipy.stats as si\n",
    "\n",
    "def Black_Scholes_Algo(S, K, T, r, sigma):\n",
    "\t    #S: spot price\n",
    "\t    #K: strike price\n",
    "\t    #T: time to maturity\n",
    "\t    #r: interest rate\n",
    "\t    #sigma: volatility of underlying asset\n",
    "\t    d1 = (np.log(S / K) + (r + 0.5 * sigma ** 2) * T) / (sigma * np.sqrt(T))\n",
    "\t    d2 = (np.log(S / K) + (r - 0.5 * sigma ** 2) * T) / (sigma * np.sqrt(T))\n",
    "\t    \n",
    "\t    call = (S * si.norm.cdf(d1, 0.0, 1.0) - K * np.exp(\n",
    "            -r * T) * si.norm.cdf(d2, 0.0, 1.0))\n",
    "\t    return call\n",
    "# current stock price \n",
    "S0 = 100; S = S0\n",
    "# initial time\n",
    "t0 = 0\n",
    "# time until option experiance,\n",
    "call_maturiy_T = 1;t = call_maturiy_T\n",
    "#steady; risk-free-rate\n",
    "r=0.05\n",
    "# K = Options striking pruce\n",
    "K = 120\n",
    "volatility_sigma = 0.2; s = volatility_sigma\n",
    "C = Black_Scholes_Algo(S,K,t,r,s)\n",
    "print(\"EX 1.1: the value of this call at t = 0 IS c = \", C)\n"
   ]
  },
  {
   "cell_type": "markdown",
   "source": [
    "\t    \"\"\"\n",
    "\t    N = number of binomial iterations\n",
    "\t     / tree deth\n",
    "\t    S0 = initial stock price\n",
    "\t    u = factor change of upstate\n",
    "\t    /volatility\n",
    "\t    r = risk free interest rate per annum\n",
    "\t    K = strike price\"\"\"\n",
    "        "
   ],
   "metadata": {
    "collapsed": false,
    "pycharm": {
     "name": "#%% md\n"
    }
   }
  },
  {
   "cell_type": "code",
   "execution_count": 139,
   "outputs": [
    {
     "data": {
      "text/plain": "array([[ 19.29822448,  30.73253691,  48.06212913,  73.36834262,\n        108.26837856, 151.82818285],\n       [  0.        ,   6.13704718,  10.96012972,  19.56267385,\n         34.89675548,  62.21188004],\n       [  0.        ,   0.        ,   0.35026859,   0.64035978,\n          1.17070344,   2.14027582],\n       [  0.        ,   0.        ,   0.        ,   0.        ,\n          0.        ,   0.        ],\n       [  0.        ,   0.        ,   0.        ,   0.        ,\n          0.        ,   0.        ],\n       [  0.        ,   0.        ,   0.        ,   0.        ,\n          0.        ,   0.        ]])"
     },
     "metadata": {},
     "output_type": "execute_result",
     "execution_count": 139
    }
   ],
   "source": [
    "# binomial tree to determine the call option value.\n",
    "\n",
    "def binomial_model(N, S0, s, r, K):\n",
    "    u = np.power(np.e,s*np.sqrt(t))\n",
    "    d = 1 / u\n",
    "    p = (1 + r - d) / (u - d)\n",
    "    q = 1 - p\n",
    "    \n",
    "    # print(\"N\", N)\n",
    "    # print(\"S0\", S0)\n",
    "    # print(\"s\", s)\n",
    "    # print(\"r\")\n",
    "    # print()\n",
    "    # print(r)\n",
    "    # print(\"K\",K)\n",
    "    # print(\"u\",u)\n",
    "    # print()\n",
    "    # print(\"d\",d)\n",
    "    # print()\n",
    "    # print(\"p\",p)\n",
    "    # print()\n",
    "    # print(\"q\",q)\n",
    "    # print()\n",
    "    # make stock price tree\n",
    "    stock = np.zeros([N + 1, N + 1])\n",
    "    # print(stock)\n",
    "    for i in range(N + 1):\n",
    "        for j in range(i + 1):\n",
    "            stock[j, i] = S0 * (u ** (i - j)) * (d ** j)\n",
    "\t# Generate option prices recursively\n",
    "    # print(\"option\")\n",
    "    option = np.zeros([N + 1, N + 1])\n",
    "    \n",
    "    # print(option)\n",
    "    option[:, N] = np.maximum(np.zeros(N + 1), (\n",
    "            stock[:, N] - K))\n",
    "    # print(option)\n",
    "    for i in range(N - 1, -1, -1):\n",
    "\t    for j in range(0, i + 1):\n",
    "\t        option[j, i] = (1 / (\n",
    "                    1 + r) * (\n",
    "                    p * option[j, i + 1] + q * option[j + 1, i + 1]))\n",
    "            \n",
    "    return option\n",
    "\n",
    "# current stock price\n",
    "S0 = 100\n",
    "# initial time\n",
    "t0 = 0\n",
    "# time until option experiance,\n",
    "call_maturiy_T = 1;t = call_maturiy_T\n",
    "#steady; risk-free-rate\n",
    "r=0.05\n",
    "# K = Options striking pruce\n",
    "K = 120\n",
    "s = 0.2\n",
    "max_tree_depth = 4\n",
    "\n",
    "tree_depths = [ x for x in range(1, max_tree_depth)] \n",
    "# call_estimated_values = [\n",
    "# \t binomial_model(N, S0, s, r, K)\n",
    "# \t for N in tree_depths\n",
    "# ]\n",
    "binomial_model(5, S0, s, r, K)\n",
    "\n",
    "# len(call_estimated_values[0])\n",
    "# len(call_estimated_values[2])\n",
    "\n",
    "# # for level in range(len(call_estimated_values)):\n",
    "# print(len(call_estimated_values))\n",
    "# \n",
    "# arr = [call_estimated_values[0][0],\n",
    "#         call_estimated_values[1][0],\n",
    "#         call_estimated_values[1][0][0]\n",
    "# \n",
    "# call_estimated_values[0]\n",
    "# arr =[]\n",
    "# arr.append.call_estimated_values[0][0][0]\n",
    "# arr.append.call_estimated_values[0][1][0]\n",
    "# arr.append.call_estimated_values[1][0][0]\n",
    "# arr.append.call_estimated_values[1][0][0]\n",
    "# arr =call_estimated_values[1][0]\n",
    "# import matplotlib.pyplot as plt\n",
    "# plt.plot(arr, tree_depths)\n",
    "# arr\n",
    "# \n"
   ],
   "metadata": {
    "collapsed": false,
    "pycharm": {
     "name": "#%% \n",
     "is_executing": false
    }
   }
  }
 ],
 "metadata": {
  "language_info": {
   "codemirror_mode": {
    "name": "ipython",
    "version": 2
   },
   "file_extension": ".py",
   "mimetype": "text/x-python",
   "name": "python",
   "nbconvert_exporter": "python",
   "pygments_lexer": "ipython2",
   "version": "2.7.6"
  },
  "kernelspec": {
   "name": "pycharm-670c054d",
   "language": "python",
   "display_name": "PyCharm (advanced_image_processing)"
  },
  "pycharm": {
   "stem_cell": {
    "cell_type": "raw",
    "source": [],
    "metadata": {
     "collapsed": false
    }
   }
  }
 },
 "nbformat": 4,
 "nbformat_minor": 0
}