{
 "cells": [
  {
   "cell_type": "markdown",
   "metadata": {
    "pycharm": {
     "metadata": false,
     "name": "#%%\n"
    }
   },
   "source": [
    "In this "
   ]
  },
  {
   "cell_type": "code",
   "execution_count": null,
   "metadata": {
    "collapsed": true,
    "pycharm": {}
   },
   "outputs": [],
   "source": [
    "import numpy as np\n",
    "import matplotlib.pyplot as plt\n",
    "import cvxopt as opt\n",
    "from cvxopt import blas, solvers\n",
    "import pandas as pd\n",
    "\n",
    "np.random.seed(123)\n",
    "solvers.options['show_progress'] = False\n",
    "\n",
    "def getReturns():\n",
    "        stocks = pd.read_csv(\"closes.dat\", sep=\"\\t\")\n",
    "        stocks.columns = [\"Macdonald\", \"BankofAmerica\", \"IBM\", \"Chevron\", \"CocaCola\", \"Novartis\", \"ATT\"]\n",
    "        # ret = np.log((stocks)/stocks.shift(1))\n",
    "        ret = (stocks-stocks.shift(1))/stocks.shift(1)\n",
    "        ret.drop([0], axis=0, inplace=True)\n",
    "        return ret\n",
    "\n",
    "def rand_weights(n):\n",
    "    ''' Produces n random weights that sum to 1 '''\n",
    "    k = np.random.rand(n)\n",
    "    return k / sum(k)\n",
    "\n",
    "def getMuStd(returns, w):\n",
    "        p = np.asmatrix(np.mean(returns, axis=1))\n",
    "        C = np.asmatrix(np.cov(returns))\n",
    "\n",
    "        mu = w * p.T\n",
    "        sigma = np.sqrt(w * C * w.T)\n",
    "        return mu, sigma\n",
    "\n",
    "def random_portfolio(returns):\n",
    "        '''\n",
    "        Returns the mean and standard deviation of returns for a random portfolio\n",
    "        '''\n",
    "        w = np.asmatrix(rand_weights(returns.shape[0]))\n",
    "        return getMuStd(returns, w)\n",
    "\n",
    "ret = getReturns()\n",
    "ret = ret.as_matrix()\n",
    "returns = ret.T\n",
    "\n",
    "n_portfolios = 10000\n",
    "portfolios = [\n",
    "    random_portfolio(returns)\n",
    "    for _ in range(n_portfolios)\n",
    "]\n",
    "\n",
    "(means, stds)= np.column_stack(portfolios)\n",
    "\n",
    "\n",
    "def analytical_calculation(returns):\n",
    "        n = len(returns)\n",
    "        returns = np.asmatrix(returns)\n",
    "        N = 100\n",
    "        mus = [10 ** (5.0 * t / N - 1.0) for t in range(N)]\n",
    "        cov_matrix = opt.matrix(np.cov(returns))\n",
    "        pbar = opt.matrix(np.mean(returns, axis=1))\n",
    "\n",
    "        # constraint matrices\n",
    "        G = -opt.matrix(np.eye(n))\n",
    "        h = opt.matrix(0.0, (n, 1))\n",
    "        A = opt.matrix(1.0, (1, n))\n",
    "        b = opt.matrix(1.0)\n",
    "\n",
    "        # Calculate efficient frontier weights using quadratic programming\n",
    "        portfolios = [solvers.qp(mu * cov_matrix, -pbar, G, h, A, b)['x'] for mu in mus]\n",
    "        returns = [blas.dot(pbar, x) for x in portfolios]\n",
    "        risks = [np.sqrt(blas.dot(x, cov_matrix * x)) for x in portfolios]\n",
    "        return returns, risks\n",
    "\n",
    "eff_returns, risks = analytical_calculation(returns)\n",
    "\n",
    "min_risk = risks[-1]\n",
    "ret_min_risk = eff_returns[-1]\n",
    "\n",
    "\n",
    "plt.plot(stds, means, 'o')\n",
    "plt.scatter(x=min_risk, y=ret_min_risk, c='red', marker='D', s=200)\n",
    "plt.ylabel('return')\n",
    "plt.xlabel('risk')\n",
    "plt.plot(risks, eff_returns, 'y-o')\n",
    "plt.show()\n",
    "\n",
    "\n",
    "##### Monte carlo simulation\n",
    "num_portfolios = 10000\n",
    "all_weights = np.zeros((num_portfolios, 7))\n",
    "ret_arr = np.zeros(num_portfolios)\n",
    "vol_arr = np.zeros(num_portfolios)\n",
    "sharpe_arr = np.zeros(num_portfolios)\n",
    "log_ret = getReturns()\n",
    "\n",
    "for x in range(num_portfolios):\n",
    "        # Weights\n",
    "        weights = np.array(np.random.random(7))\n",
    "        weights = weights / np.sum(weights)\n",
    "        # Save weights\n",
    "        all_weights[x, :] = weights\n",
    "        # Expected return\n",
    "        ret_arr[x] = np.sum((log_ret.mean() * weights * 251))\n",
    "\n",
    "        # Expected volatility\n",
    "        vol_arr[x] = np.sqrt(np.dot(weights.T, np.dot(log_ret.cov() * 251, weights)))\n",
    "\n",
    "\n",
    "plt.figure(figsize=(12, 8))\n",
    "plt.plot(vol_arr, ret_arr, \"o\")\n",
    "plt.xlabel('Volatility')\n",
    "plt.ylabel('Return')\n",
    "plt.show()\n",
    "# Using the efficient frontier, find the weight of the portfolio with the minimal volatility.\n",
    "# What can you say about the return of this portfolio?\n",
    "# It has the minimum risk and minimum return from the optimal ones.\n",
    "\n"
   ]
  },
  {
   "cell_type": "code",
   "execution_count": null,
   "metadata": {},
   "outputs": [],
   "source": []
  },
  {
   "cell_type": "code",
   "execution_count": null,
   "metadata": {
    "pycharm": {
     "metadata": false,
     "name": "#%%\n"
    }
   },
   "outputs": [],
   "source": [
    "df = pd.read_csv(\"closes.dat\", sep=\"\\t\")\n",
    "\n",
    "%%\n",
    " Using the efficient frontier, find the weight of the portfolio with the minimal volatility.\n",
    "# What can you say about the return of this portfolio?\n",
    "# It has the minimum risk and minimum return from the optimal ones."
   ]
  }
 ],
 "metadata": {
  "kernelspec": {
   "display_name": "Python 3",
   "language": "python",
   "name": "python3"
  },
  "language_info": {
   "codemirror_mode": {
    "name": "ipython",
    "version": 3
   },
   "file_extension": ".py",
   "mimetype": "text/x-python",
   "name": "python",
   "nbconvert_exporter": "python",
   "pygments_lexer": "ipython3",
   "version": "3.7.3"
  },
  "stem_cell": {
   "cell_type": "raw",
   "metadata": {
    "pycharm": {
     "metadata": false
    }
   },
   "source": "Reading closes.dat file contains on\n\n\nRequired packages\n"
  }
 },
 "nbformat": 4,
 "nbformat_minor": 1
}
