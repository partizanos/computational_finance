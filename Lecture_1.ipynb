{
  "nbformat": 4,
  "nbformat_minor": 0,
  "metadata": {
    "colab": {
      "name": "Lecture 1 ",
      "version": "0.3.2",
      "provenance": [],
      "include_colab_link": true
    },
    "kernelspec": {
      "name": "python3",
      "display_name": "Python 3"
    }
  },
  "cells": [
    {
      "cell_type": "markdown",
      "metadata": {
        "id": "view-in-github",
        "colab_type": "text"
      },
      "source": [
        "<a href=\"https://colab.research.google.com/github/partizanos/computational_finance/blob/master/Lecture_1.ipynb\" target=\"_parent\"><img src=\"https://colab.research.google.com/assets/colab-badge.svg\" alt=\"Open In Colab\"/></a>"
      ]
    },
    {
      "cell_type": "markdown",
      "metadata": {
        "id": "RQTcIRunGAWr",
        "colab_type": "text"
      },
      "source": [
        "# An overview of time series analysis \n",
        "\n",
        "Here we cconsider a univariate time series of \n",
        "$x(t_i) \\epsilon R $,\n",
        "\n",
        "${t_i}$: time, equidistand (or not)\n",
        "\n",
        "Example:"
      ]
    },
    {
      "cell_type": "code",
      "metadata": {
        "id": "PV7LL6EUGcox",
        "colab_type": "code",
        "colab": {}
      },
      "source": [
        "x = [1.3012,1.3014, 1.3022, ]\n",
        "t = [\"jan 7 2013 00h00h00\",\"jan 8 2013 00h00h00\"]"
      ],
      "execution_count": 0,
      "outputs": []
    },
    {
      "cell_type": "markdown",
      "metadata": {
        "id": "gTnyNd4HG1fl",
        "colab_type": "text"
      },
      "source": [
        "What to say about x?"
      ]
    }
  ]
}