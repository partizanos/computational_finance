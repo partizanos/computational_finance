{
 "cells": [
  {
   "cell_type": "markdown",
   "metadata": {
    "collapsed": true,
    "pycharm": {
     "name": "#%% md\n"
    }
   },
   "source": [
    "# Series 8, Introduction to Computational Finance, Dimitris Proios,\n",
    "## Minority Game\n",
    "\n",
    "### Exercise 1 ) Implement a Minority Game.\n",
    "\n",
    "### Problem description \n",
    "\n",
    "Elements of game :\n",
    "\n",
    "#### Agent\n",
    "\n",
    "An agent will not make a decision based on other agents but only based on hist own history and on the random choice of initial S strategies.\n",
    "At every round he will be choosing the action $a^{\\mu(t)}_{i,S}$ where:\n",
    "- S = strategy chosen \n",
    "- i = index of agent \n",
    "- ${\\mu(t)}$ = the past record of victories for the specific  agent for the given iteration\n",
    "\n",
    "#### Simulation:\n",
    "\n",
    "In every turn all agent will be called to give a choice \n",
    "based on those the simulatino engine will give:\n",
    "- to the minority a win (1) \n",
    "- the majority a loss (-1).\n",
    "\n",
    "#### Strategy selection:\n",
    "\n",
    "- strategy selection followes the folloing patter initially we select a number of S strategies from the possible $2**2**M$\n",
    "- in every iteration will throw a roulette calculation and select from the S strategies \n",
    "- if he won based on some strategy a sccore is assigned to bias the selecction towards that strategy.\n",
    "- Important note: in the experimentation I also tried strategies totally at totally random, and filter between a set of random strategies."
   ]
  },
  {
   "cell_type": "code",
   "execution_count": 1,
   "metadata": {
    "pycharm": {
     "is_executing": true,
     "metadata": false,
     "name": "#%% \n"
    }
   },
   "outputs": [],
   "source": [
    "import random\n",
    "import numpy as np\n",
    "import itertools\n",
    "import copy\n",
    "import time\n",
    "import matplotlib.pyplot as plt\n",
    "\n",
    "def getStrategy():\n",
    "    return \"\".join([str (random.choice([0,1])) for i in range(0,2**M)]) \n",
    "\n",
    "def roullette(choices, weights):\n",
    "    for w_i, w in enumerate(weights):\n",
    "        if random.random() > w:\n",
    "           return choices[w_i] \n",
    "\n",
    "class Agent():\n",
    "    def __init__(self, strategies, possible_history, M):\n",
    "        # for M = 3, 8 answers for 8 combination\n",
    "        assert len(strategies[0]) == len(possible_history)\n",
    "        self.history = [str (random.choice([0,1])) for i in range(0,M)]\n",
    "        self.history = \"\".join(self.history)\n",
    "        self.strategy_scores= [0 for _ in range(S)]\n",
    "        self.strategies = strategies\n",
    "        self.current_choice = random.choice([0,1])\n",
    "        self.chosen_strategy_index = random.choice(range(S))\n",
    "\n",
    "    def choose(self, iteration_number):\n",
    "        #         chosen_strategy_index = random.choice(range(S))\n",
    "        chosen_strategy_index = roullette(range(S), self.strategy_scores)\n",
    "        chosen_strategy = self.strategies[self.chosen_strategy_index]\n",
    "        index = possible_historyDict[self.history]\n",
    "        a = int(chosen_strategy[index])\n",
    "        if a == 0:\n",
    "          a = -1 \n",
    "        self.current_choice = a\n",
    "        return a\n",
    "    \n",
    "    def set_agent_history(self, A):\n",
    "        self.history=self.history[1:]\n",
    "        # agent lost belongs to majority  \n",
    "        if A  * self.current_choice > 0:\n",
    "            self.history += \"1\"\n",
    "            self.strategy_scores[self.chosen_strategy_index]+=1\n",
    "            \n",
    "            # agent won belongs to minority \n",
    "        if A  * self.current_choice < 0:\n",
    "            self.history += \"0\"\n",
    "        \n",
    "\n",
    "class MinorityGame():\n",
    "    def __init__(\n",
    "        self, \n",
    "        N, \n",
    "        M, \n",
    "        S, \n",
    "        possible_history, \n",
    "        iterations_per_simulation\n",
    "    ): \n",
    "        self.A = []\n",
    "        self.agents = []\n",
    "        self.strategies = []\n",
    "        for i in range(0,N): \n",
    "            self.strategies = [getStrategy() for x in range(S)]\n",
    "            self.agents.append(Agent(self.strategies, possible_history, M))\n",
    "        \n",
    "        for i in range(0, iterations_per_simulation):\n",
    "            moves = []\n",
    "            for agent_index in range(0,N):\n",
    "                moves.append(self.agents[agent_index].choose(i))\n",
    "            self.A.append(sum(moves))\n",
    "            for agent_index in range(0,N):\n",
    "                self.agents[agent_index].set_agent_history(self.A[-1])\n",
    "\n",
    "    def get_Var_A(self):\n",
    "        return np.var(self.A)\n",
    "    def get_A(self):\n",
    "        return self.A"
   ]
  },
  {
   "cell_type": "markdown",
   "metadata": {
    "pycharm": {
     "metadata": false
    }
   },
   "source": [
    "\n",
    "### Exercicse 2)\n",
    "Draw the curve describing how the variance ${\\sigma^2/N}$ of the participation A\n",
    "depends on the parameter    ${a=2^M/N }$ . \n",
    "Here N denotes the number of agents and the length of the historical window taken into consideration by an agent.\n",
    "\n",
    "\n",
    "#### Solution\n",
    "We run an experiment for S = 2, M = 1..15, iterations = 300 and N=101 "
   ]
  },
  {
   "cell_type": "code",
   "execution_count": 2,
   "metadata": {
    "pycharm": {
     "metadata": false,
     "name": "#%% \n"
    }
   },
   "outputs": [],
   "source": [
    "S=2\n",
    "simulations = []\n",
    "MS= range(1,15)\n",
    "N=101\n",
    "iterations_per_simulation = 300\n",
    "for M in MS:\n",
    "        possible_history = [\"\".join(seq) for seq in itertools.product(\"01\", repeat=M)]\n",
    "        possible_historyDict=dict(enumerate(possible_history))\n",
    "        possible_historyDict=dict(map(reversed, possible_historyDict.items()))\n",
    "        simulations.append(\n",
    "                MinorityGame(\n",
    "                    N, \n",
    "                    M, \n",
    "                    S, \n",
    "                    possible_history, \n",
    "                    iterations_per_simulation\n",
    "                )   \n",
    "        )\n"
   ]
  },
  {
   "cell_type": "markdown",
   "metadata": {},
   "source": [
    "I also tried to keep M steady and loop through N "
   ]
  },
  {
   "cell_type": "code",
   "execution_count": null,
   "metadata": {},
   "outputs": [],
   "source": [
    "S=2\n",
    "simulations = []\n",
    "NS= range(101,2001, 100)\n",
    "M=10\n",
    "iterations_per_simulation = 300\n",
    "for N in NS:\n",
    "        possible_history = [\"\".join(seq) for seq in itertools.product(\"01\", repeat=M)]\n",
    "        possible_historyDict=dict(enumerate(possible_history))\n",
    "        possible_historyDict=dict(map(reversed, possible_historyDict.items()))\n",
    "        simulations.append(\n",
    "                MinorityGame(\n",
    "                    N, \n",
    "                    M, \n",
    "                    S, \n",
    "                    possible_history, \n",
    "                    iterations_per_simulation\n",
    "                )   \n",
    "        )\n"
   ]
  },
  {
   "cell_type": "markdown",
   "metadata": {},
   "source": [
    "### Attendance plots\n",
    "\n",
    "I created some attendance plots to observe the behavior for every M in correlation with the attendance A.This way we can observer seperately the behavior for every differnet value of M."
   ]
  },
  {
   "cell_type": "code",
   "execution_count": null,
   "metadata": {},
   "outputs": [],
   "source": [
    "def showPlots(plots, titles):\n",
    "    plt.tight_layout(pad=2., w_pad=1., h_pad=2.0)\n",
    "    fig=plt.figure(figsize=(15, 15))\n",
    "    columns = 4\n",
    "    rows = 8\n",
    "    k=1\n",
    "    for i in range(1, len(plots)):\n",
    "        fig.add_subplot(rows, columns, i)\n",
    "        plt.plot(*plots[k-1])\n",
    "        plt.xlabel(\"iteration # \")\n",
    "        plt.ylabel(\"Attendance A  \")\n",
    "        \n",
    "        plt.title(titles[k-1])\n",
    "        k+= 1\n",
    "    plt.show()\n",
    "        \n",
    "Attendances = np.asarray([s.get_A() for s in simulations])\n",
    "plots=[]\n",
    "titles = []\n",
    "for A in range(0,len(Attendances)):\n",
    "            titles.append(\"M=\"+ str(A+1))\n",
    "            Iterations = np.asarray([x for x in range(0,iterations_per_simulation)])\n",
    "            plots.append((Iterations, Attendances[A]))\n",
    "showPlots(plots, titles)"
   ]
  },
  {
   "cell_type": "markdown",
   "metadata": {
    "pycharm": {
     "metadata": false
    }
   },
   "source": [
    "\n"
   ]
  },
  {
   "cell_type": "markdown",
   "metadata": {
    "pycharm": {
     "metadata": false
    }
   },
   "source": [
    "\n",
    "- When S = 2 ( S\n",
    "being the number of strategies), what is the critical value\n",
    "$α_c$\n",
    "for which  ${\\sigma^2/N }$ reaches a minimum\n"
   ]
  },
  {
   "cell_type": "code",
   "execution_count": 4,
   "metadata": {
    "pycharm": {
     "metadata": false,
     "name": "#%% \n"
    }
   },
   "outputs": [
    {
     "data": {
      "image/png": "[encoded data removed]",
      "text/plain": [
       "<Figure size 432x288 with 1 Axes>"
      ]
     },
     "metadata": {
      "needs_background": "light"
     },
     "output_type": "display_data"
    },
    {
     "name": "stdout",
     "output_type": "stream",
     "text": [
      "a_c =  0.019801980198019802\n"
     ]
    },
    {
     "data": {
      "text/plain": [
       "(array([1.98019802e-02, 3.96039604e-02, 7.92079208e-02, 1.58415842e-01,\n",
       "        3.16831683e-01, 6.33663366e-01, 1.26732673e+00, 2.53465347e+00,\n",
       "        5.06930693e+00, 1.01386139e+01, 2.02772277e+01, 4.05544554e+01,\n",
       "        8.11089109e+01, 1.62217822e+02]),\n",
       " array([0.10195996, 0.32808405, 0.41845149, 0.8246055 , 0.88759692,\n",
       "        0.95164752, 0.97906755, 1.0724418 , 0.95603256, 0.93224686,\n",
       "        0.97824378, 0.96533157, 1.05989175, 0.99388515]))"
      ]
     },
     "execution_count": 4,
     "metadata": {},
     "output_type": "execute_result"
    }
   ],
   "source": [
    "sigmasN = np.asarray([s.get_Var_A() for s in simulations]) / N\n",
    "alpha_list = np.asarray([2**M for M in MS]) / N \n",
    "plt.plot(alpha_list, [1 for _ in range(0, len(alpha_list))], 'r-')\n",
    "plt.scatter(alpha_list, sigmasN)\n",
    "plt.plot(alpha_list, sigmasN)\n",
    "plt.scatter(x=np.argmin(min(sigmasN)), y=min(sigmasN), c='red', marker='D', s=200)\n",
    "plt.xlabel(\"a= 2^M/N\")\n",
    "plt.ylabel(\"std/N\")\n",
    "plt.legend([\"random threshold \", \"system behavior\"])\n",
    "plt.show()  \n",
    "a_c= min(alpha_list)\n",
    "print(\"a_c = \", a_c)\n",
    "alpha_list, sigmasN\n"
   ]
  },
  {
   "cell_type": "markdown",
   "metadata": {},
   "source": [
    "##  Finally we experiment with  :\n",
    " - various agents number \n",
    " - for sizes of history M \n",
    " - with a prefixed set of strategies per agent and on which every agent will be choosing one at every iteration\n",
    " - with the meta-strategy (how who choose strategies)"
   ]
  },
  {
   "cell_type": "code",
   "execution_count": null,
   "metadata": {
    "pycharm": {
     "metadata": false,
     "name": "#%%\n"
    }
   },
   "outputs": [],
   "source": [
    "N = 11\n",
    "S_num = range(2,6)\n",
    "iterations_per_simulation=300\n",
    "MS= range(1,12)\n",
    "\n",
    "for S in S_num:\n",
    "    simulations = []\n",
    "\n",
    "    for M in MS:\n",
    "\n",
    "\n",
    "        possible_history = [\"\".join(seq) for seq in itertools.product(\"01\", repeat=M)]\n",
    "        possible_historyDict=dict(enumerate(possible_history))\n",
    "        possible_historyDict=dict(map(reversed, possible_historyDict.items()))\n",
    "        simulations.append(\n",
    "                MinorityGame(\n",
    "                    N, \n",
    "                    M, \n",
    "                    S, \n",
    "                    possible_history, \n",
    "                    iterations_per_simulation\n",
    "                )\n",
    "        )\n",
    "        showTime(\"simulation with M \" + str(M))\n",
    "            \n",
    "    simulations = [s.get_Var_A() for s in simulations]\n",
    "    sigmas = simulations\n",
    "    sigmasN = np.asarray(sigmas)/ N\n",
    "    aN = np.asarray([2**M for M in MS])/N\n",
    "\n",
    "    plt.plot(aN, sigmasN)\n",
    "    plt.scatter(aN, sigmasN)\n",
    "    plt.legend([\"S=\"+str(s) for s in S_num])\n",
    "    plt.xlabel(\"a= 2^M/N\")\n",
    "    plt.ylabel(\"std/N\")\n",
    "plt.show()  "
   ]
  },
  {
   "cell_type": "code",
   "execution_count": null,
   "metadata": {},
   "outputs": [],
   "source": []
  },
  {
   "cell_type": "markdown",
   "metadata": {},
   "source": [
    "### # Conclusions\n",
    "I  don't tust completely the results of my graphs. The A critical appears always the one with the lowest agent memory M=1. And for some reason for M = 1 ,2,3 I am always getting very low standard deviations.\n",
    "That said the bigger values of M tend to converge to standar deiation 1.\n",
    "Also there is always an uptrend and consequenctly a downtrend approaching the ideal relationship of the alpha and the standard deviation parameters."
   ]
  }
 ],
 "metadata": {
  "kernelspec": {
   "display_name": "PyCharm (advanced_image_processing)",
   "language": "python",
   "name": "pycharm-670c054d"
  },
  "language_info": {
   "codemirror_mode": {
    "name": "ipython",
    "version": 3
   },
   "file_extension": ".py",
   "mimetype": "text/x-python",
   "name": "python",
   "nbconvert_exporter": "python",
   "pygments_lexer": "ipython3",
   "version": "3.5.2"
  }
 },
 "nbformat": 4,
 "nbformat_minor": 1
}
