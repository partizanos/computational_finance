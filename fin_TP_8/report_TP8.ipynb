{
  "cells": [
    {
      "cell_type": "markdown",
      "metadata": {
        "collapsed": true,
        "pycharm": {
          "name": "#%% md\n"
        }
      },
      "source": "# Series 8, Introduction to Computational Finance, Dimitris Proios,\n## Minority Game\n- Implement a Minority Game.\n\n### Problem description \n\nElements of game :\n\n#### Agent\n\nAn agent will not make a decision based on other agents but only based on hist own history and on the random choice of initial S strategies.\nAt every round he will be choosing the action $a^{\\mu(t)}_{i,S}$ where:\n- S \u003d strategy chosen \n- i \u003d index of agent \n- ${\\mu(t)}$ \u003d the past record of victories for the specific  agent for the given iteration\n\n#### Simulation:\n\nIn every turn all agent will be called to give a choice \nbased on those the simulatino engine will give:\n- to the minority a win (1) \n- the majority a loss (-1).\n\n"
    },
    {
      "cell_type": "code",
      "execution_count": null,
      "outputs": [],
      "source": "\n\nclass Agent():\n    def __init__(self, strategies, possible_history, M):\n        # for M \u003d 3, 8 answers for 8 combination\n        assert len(strategies[0]) \u003d\u003d len(possible_history)\n        self.history \u003d [random.choice([0,1]) for i in range(0,M)]\n        self.strategies \u003d strategies\n        self.current_choice \u003d 1\n\n    def choose(self):\n        return random.choice([0,1])\n        chosen_strategy \u003d random.choice(self.strategies)\n        index \u003d possible_historyDict[self.history]\n        a \u003d int(chosen_strategy[index])\n        if stra[h] \u003d\u003d 0:\n          a \u003d -1 \n        self.current_choice \u003d a\n        return a\n    \n    def update_strategy_score(self, A):\n        self.history\u003dself.history[1:]\n        # agent lost belongs to majority  \n        if A  * self.current_choice \u003e 0:\n            self.history.append(1)\n        # agent won belongs to minority \n        if A  * self.current_choice \u003c 0:\n            self.history.append(0)\n        \n\nclass MinorityGame():\n    \n    def __init__(self, N, M, S, possible_history, possible_strategies, iterations_per_simulation):\n        self.N \u003d N\n        self.A \u003d []\n        self.agents \u003d []\n        \n        for i in range(0,N):\n            strategies \u003d [] \n            strategies.append(random.choice(possible_strategies))\n            strategies.append(random.choice(possible_strategies))\n            self.agents.append(Agent(strategies, possible_history, M))\n        \n        for i in range(0, iterations_per_simulation):\n            moves \u003d []\n            for agent_index in range(0,N):\n                moves.append(self.agents[agent_index].choose())\n            self.A .append(sum(moves))\n            for agent_index in range(0,N):\n                self.agents[agent_index].update_strategy_score(self.A[-1])\n    def getA(self):\n        return self.A\n            \n\n# # strategies \u003d \n#  we experiment with:\n#  - various agents number \n#  - for a fixed size of history M \n#  - with a prefixed set of strategies per agent and on which every agent will be choosing one at every iteration\n\n\n\nimport random\nimport numpy as np\nimport itertools\n\nsimulations \u003d []\nMS\u003d range(1,10)\nfor M in MS:\n    N \u003d 11\n    S \u003d 3\n    possible_history \u003d [\"\".join(seq) for seq in itertools.product(\"01\", repeat\u003dM)]\n    # possible_strategies \u003d [list(\"\".join(seq)) for seq in itertools.product(\"01\", repeat\u003d2** M)]\n    possible_strategies \u003d [list(\"\".join(seq)) for seq in itertools.product(\"01\", repeat\u003dM)]\n    strategies\u003d[]\n    for M in range(0,M):\n        temp \u003d []\n        for stra in possible_strategies:\n            temp.append(stra[M])\n        strategies.append(temp)\n    assert len(strategies[0]) \u003d\u003d len(possible_history)\n\n    iterations_per_simulation\u003d200\n    possible_historyDict\u003ddict(enumerate(possible_history))\n    possible_historyDict\u003ddict(map(reversed, possible_historyDict.items()))\n    simulations.append(\n            MinorityGame(\n                N, \n                M, \n                S, \n                possible_history, \n                strategies, \n                iterations_per_simulation\n            )   \n    )\n\nAs \u003d [sim.getA() for sim in simulations]\nsigmas \u003d [np.var(A) for A in As]\nsigmasN \u003d np.asarray(sigmas)/ N\nx \u003d [2**M/N for M in MS]\n\nimport matplotlib.pyplot as plt\n\nplt.plot(x, sigmasN)\nplt.show()  \nprint(\"end\")",
      "metadata": {
        "pycharm": {
          "metadata": false,
          "name": "#%% \n",
          "is_executing": true
        }
      }
    },
    {
      "cell_type": "markdown",
      "source": "\n- Draw the curve describing how the variance ${\\sigma^2/N}$ of the participation A\ndepends on the parameter    ${a\u003d2^M/N }$",
      "metadata": {
        "pycharm": {
          "metadata": false
        }
      }
    },
    {
      "cell_type": "code",
      "execution_count": null,
      "outputs": [],
      "source": "",
      "metadata": {
        "pycharm": {
          "metadata": false,
          "name": "#%% \n"
        }
      }
    },
    {
      "cell_type": "markdown",
      "source": "\n- Here N denotes the number of agents and the length of the historical window taken into consideration by an agent.",
      "metadata": {
        "pycharm": {
          "metadata": false
        }
      }
    },
    {
      "cell_type": "code",
      "execution_count": null,
      "outputs": [],
      "source": "",
      "metadata": {
        "pycharm": {
          "metadata": false,
          "name": "#%% \n"
        }
      }
    },
    {
      "cell_type": "markdown",
      "source": "\n- When S \u003d 2 ( S\nbeing the number of strategies), what is the critical value\n$α_c$\nfor which  ${\\sigma^2/N }$ reaches a minimum\n",
      "metadata": {
        "pycharm": {
          "metadata": false
        }
      }
    }
  ],
  "metadata": {
    "language_info": {
      "codemirror_mode": {
        "name": "ipython",
        "version": 2
      },
      "file_extension": ".py",
      "mimetype": "text/x-python",
      "name": "python",
      "nbconvert_exporter": "python",
      "pygments_lexer": "ipython2",
      "version": "2.7.6"
    },
    "kernelspec": {
      "name": "pycharm-670c054d",
      "language": "python",
      "display_name": "PyCharm (advanced_image_processing)"
    }
  },
  "nbformat": 4,
  "nbformat_minor": 0
}