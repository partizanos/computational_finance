{
 "cells": [
  {
   "cell_type": "markdown",
   "metadata": {
    "collapsed": true,
    "pycharm": {
     "name": "#%% md\n"
    }
   },
   "source": [
    "# Series 8, Introduction to Computational Finance, Dimitris Proios,\n",
    "## Minority Game\n",
    "- Implement a Minority Game.\n",
    "\n",
    "### Problem description \n",
    "\n",
    "Elements of game :\n",
    "\n",
    "#### Agent\n",
    "\n",
    "An agent will not make a decision based on other agents but only based on hist own history and on the random choice of initial S strategies.\n",
    "At every round he will be choosing the action $a^{\\mu(t)}_{i,S}$ where:\n",
    "- S = strategy chosen \n",
    "- i = index of agent \n",
    "- ${\\mu(t)}$ = the past record of victories for the specific  agent for the given iteration\n",
    "\n",
    "#### Simulation:\n",
    "\n",
    "In every turn all agent will be called to give a choice \n",
    "based on those the simulatino engine will give:\n",
    "- to the minority a win (1) \n",
    "- the majority a loss (-1).\n",
    "\n"
   ]
  },
  {
   "cell_type": "code",
   "execution_count": 1,
   "metadata": {
    "pycharm": {
     "is_executing": true,
     "metadata": false,
     "name": "#%% \n"
    }
   },
   "outputs": [],
   "source": [
    "import random\n",
    "import numpy as np\n",
    "import itertools\n",
    "import copy\n",
    "import time\n",
    "import matplotlib.pyplot as plt\n",
    "\n",
    "def roullette(choices, weights):\n",
    "    for w_i, w in enumerate(weights):\n",
    "        if random.random() > w:\n",
    "           return choices[w_i] \n",
    "\n",
    "class Agent():\n",
    "    def __init__(self, strategies, possible_history, M):\n",
    "        # for M = 3, 8 answers for 8 combination\n",
    "        assert len(strategies[0]) == len(possible_history)\n",
    "        self.history = [str (random.choice([0,1])) for i in range(0,M)]\n",
    "        self.history = \"\".join(self.history)\n",
    "        self.strategy_scores= [0 for _ in range(S)]\n",
    "        self.strategies = strategies\n",
    "        self.current_choice = 1\n",
    "        self.chosen_strategy_index = random.choice(range(S))\n",
    "\n",
    "    def choose(self, iteration_number):\n",
    "        #         chosen_strategy_index = random.choice(range(S))\n",
    "        chosen_strategy_index = roullette(range(S), self.strategy_scores)\n",
    "        chosen_strategy = self.strategies[self.chosen_strategy_index]\n",
    "        index = possible_historyDict[self.history]\n",
    "        a = int(chosen_strategy[index])\n",
    "        if a == 0:\n",
    "          a = -1 \n",
    "        self.current_choice = a\n",
    "        return a\n",
    "\n",
    "    \n",
    "    def set_agent_history(self, A):\n",
    "        self.history=self.history[1:]\n",
    "        # agent lost belongs to majority  \n",
    "        if A  * self.current_choice > 0:\n",
    "            self.history += \"1\"\n",
    "            self.strategy_scores[self.chosen_strategy_index]+=1\n",
    "            \n",
    "            # agent won belongs to minority \n",
    "        if A  * self.current_choice < 0:\n",
    "            self.history += \"0\"\n",
    "        \n",
    "\n",
    "class MinorityGame():\n",
    "    def __init__(\n",
    "        self, \n",
    "        N, \n",
    "        M, \n",
    "        S, \n",
    "        possible_history, \n",
    "        iterations_per_simulation\n",
    "    ): \n",
    "        self.A = []\n",
    "        self.agents = []\n",
    "        self.strategies = []\n",
    "        for i in range(0,N): \n",
    "            self.strategies = [getStrategy() for x in range(S)]\n",
    "            self.agents.append(Agent(self.strategies, possible_history, M))\n",
    "        \n",
    "        for i in range(0, iterations_per_simulation):\n",
    "\n",
    "            moves = []\n",
    "            for agent_index in range(0,N):\n",
    "                moves.append(self.agents[agent_index].choose(i))\n",
    "            self.A.append(sum(moves))\n",
    "            for agent_index in range(0,N):\n",
    "                self.agents[agent_index].set_agent_history(self.A[-1])\n",
    "\n",
    "    def get_Var_A(self):\n",
    "        return np.var(self.A)"
   ]
  },
  {
   "cell_type": "markdown",
   "metadata": {},
   "source": [
    "## strategies  \n",
    "##  we experiment with  :\n",
    " - various agents number \n",
    " - for a fixed size of history M \n",
    " - with a prefixed set of strategies per agent and on which every agent will be choosing one at every iteration"
   ]
  },
  {
   "cell_type": "code",
   "execution_count": 4,
   "metadata": {
    "pycharm": {
     "metadata": false,
     "name": "#%%\n"
    }
   },
   "outputs": [
    {
     "ename": "AttributeError",
     "evalue": "'MinorityGame' object has no attribute 'get_VarA'",
     "output_type": "error",
     "traceback": [
      "\u001b[0;31m---------------------------------------------------------------------------\u001b[0m",
      "\u001b[0;31mAttributeError\u001b[0m                            Traceback (most recent call last)",
      "\u001b[0;32m<ipython-input-4-ba08aac16a3b>\u001b[0m in \u001b[0;36m<module>\u001b[0;34m\u001b[0m\n\u001b[1;32m     31\u001b[0m         )\n\u001b[1;32m     32\u001b[0m         \u001b[0mshowTime\u001b[0m\u001b[0;34m(\u001b[0m\u001b[0;34m\"simulation with M \"\u001b[0m \u001b[0;34m+\u001b[0m \u001b[0mstr\u001b[0m\u001b[0;34m(\u001b[0m\u001b[0mM\u001b[0m\u001b[0;34m)\u001b[0m\u001b[0;34m)\u001b[0m\u001b[0;34m\u001b[0m\u001b[0m\n\u001b[0;32m---> 33\u001b[0;31m     \u001b[0msimulations\u001b[0m \u001b[0;34m=\u001b[0m \u001b[0;34m[\u001b[0m\u001b[0ms\u001b[0m\u001b[0;34m.\u001b[0m\u001b[0mget_VarA\u001b[0m\u001b[0;34m(\u001b[0m\u001b[0;34m)\u001b[0m \u001b[0;32mfor\u001b[0m \u001b[0ms\u001b[0m \u001b[0;32min\u001b[0m \u001b[0msimulations\u001b[0m\u001b[0;34m]\u001b[0m\u001b[0;34m\u001b[0m\u001b[0m\n\u001b[0m\u001b[1;32m     34\u001b[0m     \u001b[0msigmas\u001b[0m \u001b[0;34m=\u001b[0m \u001b[0msimulations\u001b[0m\u001b[0;34m[\u001b[0m\u001b[0;36m3\u001b[0m\u001b[0;34m:\u001b[0m\u001b[0;34m]\u001b[0m\u001b[0;34m\u001b[0m\u001b[0m\n\u001b[1;32m     35\u001b[0m     \u001b[0msigmasN\u001b[0m \u001b[0;34m=\u001b[0m \u001b[0mnp\u001b[0m\u001b[0;34m.\u001b[0m\u001b[0masarray\u001b[0m\u001b[0;34m(\u001b[0m\u001b[0msigmas\u001b[0m\u001b[0;34m)\u001b[0m\u001b[0;34m/\u001b[0m \u001b[0mN\u001b[0m\u001b[0;34m\u001b[0m\u001b[0m\n",
      "\u001b[0;32m<ipython-input-4-ba08aac16a3b>\u001b[0m in \u001b[0;36m<listcomp>\u001b[0;34m(.0)\u001b[0m\n\u001b[1;32m     31\u001b[0m         )\n\u001b[1;32m     32\u001b[0m         \u001b[0mshowTime\u001b[0m\u001b[0;34m(\u001b[0m\u001b[0;34m\"simulation with M \"\u001b[0m \u001b[0;34m+\u001b[0m \u001b[0mstr\u001b[0m\u001b[0;34m(\u001b[0m\u001b[0mM\u001b[0m\u001b[0;34m)\u001b[0m\u001b[0;34m)\u001b[0m\u001b[0;34m\u001b[0m\u001b[0m\n\u001b[0;32m---> 33\u001b[0;31m     \u001b[0msimulations\u001b[0m \u001b[0;34m=\u001b[0m \u001b[0;34m[\u001b[0m\u001b[0ms\u001b[0m\u001b[0;34m.\u001b[0m\u001b[0mget_VarA\u001b[0m\u001b[0;34m(\u001b[0m\u001b[0;34m)\u001b[0m \u001b[0;32mfor\u001b[0m \u001b[0ms\u001b[0m \u001b[0;32min\u001b[0m \u001b[0msimulations\u001b[0m\u001b[0;34m]\u001b[0m\u001b[0;34m\u001b[0m\u001b[0m\n\u001b[0m\u001b[1;32m     34\u001b[0m     \u001b[0msigmas\u001b[0m \u001b[0;34m=\u001b[0m \u001b[0msimulations\u001b[0m\u001b[0;34m[\u001b[0m\u001b[0;36m3\u001b[0m\u001b[0;34m:\u001b[0m\u001b[0;34m]\u001b[0m\u001b[0;34m\u001b[0m\u001b[0m\n\u001b[1;32m     35\u001b[0m     \u001b[0msigmasN\u001b[0m \u001b[0;34m=\u001b[0m \u001b[0mnp\u001b[0m\u001b[0;34m.\u001b[0m\u001b[0masarray\u001b[0m\u001b[0;34m(\u001b[0m\u001b[0msigmas\u001b[0m\u001b[0;34m)\u001b[0m\u001b[0;34m/\u001b[0m \u001b[0mN\u001b[0m\u001b[0;34m\u001b[0m\u001b[0m\n",
      "\u001b[0;31mAttributeError\u001b[0m: 'MinorityGame' object has no attribute 'get_VarA'"
     ]
    }
   ],
   "source": [
    "start = time.time()\n",
    "def getStrategy():\n",
    "    return \"\".join([str (random.choice([0,1])) for i in range(0,2**M)]) \n",
    "def showTime(name):\n",
    "    pass\n",
    "#     print(name)\n",
    "#     print(time.time() - start)\n",
    "\n",
    "N = 101\n",
    "S_num = range(1,5)\n",
    "iterations_per_simulation=100\n",
    "MS= range(1,12)\n",
    "\n",
    "for S in S_num:\n",
    "    simulations = []\n",
    "\n",
    "    for M in MS:\n",
    "\n",
    "\n",
    "        possible_history = [\"\".join(seq) for seq in itertools.product(\"01\", repeat=M)]\n",
    "        possible_historyDict=dict(enumerate(possible_history))\n",
    "        possible_historyDict=dict(map(reversed, possible_historyDict.items()))\n",
    "        simulations.append(\n",
    "                MinorityGame(\n",
    "                    N, \n",
    "                    M, \n",
    "                    S, \n",
    "                    possible_history, \n",
    "                    iterations_per_simulation\n",
    "                )\n",
    "        )\n",
    "        showTime(\"simulation with M \" + str(M))\n",
    "    simulations = [s.get_VarA() for s in simulations]\n",
    "    sigmas = simulations[3:]\n",
    "    sigmasN = np.asarray(sigmas)/ N\n",
    "    aN = np.asarray([2**M for M in MS[3:]])/N\n",
    "\n",
    "    plt.plot(aN, sigmasN)\n",
    "    plt.scatter(aN, sigmasN)\n",
    "    plt.legend([\"S\"+str(s) for s in S_num])\n",
    "plt.show()  "
   ]
  },
  {
   "cell_type": "markdown",
   "metadata": {
    "pycharm": {
     "metadata": false
    }
   },
   "source": [
    "\n",
    "- Draw the curve describing how the variance ${\\sigma^2/N}$ of the participation A\n",
    "depends on the parameter    ${a=2^M/N }$ . \n",
    "Here N denotes the number of agents and the length of the historical window taken into consideration by an agent.\n"
   ]
  },
  {
   "cell_type": "code",
   "execution_count": null,
   "metadata": {
    "pycharm": {
     "metadata": false,
     "name": "#%% \n"
    }
   },
   "outputs": [],
   "source": [
    "S=2\n",
    "simulations = []\n",
    "MS= range(1,15)\n",
    "N=301\n",
    "iterations_per_simulation = 500\n",
    "for M in MS:\n",
    "        possible_history = [\"\".join(seq) for seq in itertools.product(\"01\", repeat=M)]\n",
    "        possible_historyDict=dict(enumerate(possible_history))\n",
    "        possible_historyDict=dict(map(reversed, possible_historyDict.items()))\n",
    "        simulations.append(\n",
    "                MinorityGame(\n",
    "                    N, \n",
    "                    M, \n",
    "                    S, \n",
    "                    possible_history, \n",
    "                    iterations_per_simulation\n",
    "                )   \n",
    "        )\n",
    "sigmas = simulations[4:]\n",
    "sigmasN = np.asarray(sigmas)/ N\n",
    "aN = np.asarray([2**M for M in MS[4:]])/N\n",
    "plt.plot(aN, sigmasN)\n",
    "plt.scatter(aN, sigmasN)\n",
    "plt.show()  \n",
    "aN, sigmasN, min(sigmasN), np.argmin(min(sigmasN))"
   ]
  },
  {
   "cell_type": "markdown",
   "metadata": {
    "pycharm": {
     "metadata": false
    }
   },
   "source": [
    "\n"
   ]
  },
  {
   "cell_type": "markdown",
   "metadata": {
    "pycharm": {
     "metadata": false
    }
   },
   "source": [
    "\n",
    "- When S = 2 ( S\n",
    "being the number of strategies), what is the critical value\n",
    "$α_c$\n",
    "for which  ${\\sigma^2/N }$ reaches a minimum\n"
   ]
  },
  {
   "cell_type": "code",
   "execution_count": null,
   "metadata": {
    "pycharm": {
     "metadata": false,
     "name": "#%% \n"
    }
   },
   "outputs": [],
   "source": [
    "plt.plot(aN, sigmasN)\n",
    "plt.scatter(aN, sigmasN)\n",
    "plt.show()  \n",
    "aN, sigmasN, min(sigmasN), np.argmin(min(sigmasN))"
   ]
  }
 ],
 "metadata": {
  "kernelspec": {
   "display_name": "PyCharm (advanced_image_processing)",
   "language": "python",
   "name": "pycharm-670c054d"
  },
  "language_info": {
   "codemirror_mode": {
    "name": "ipython",
    "version": 3
   },
   "file_extension": ".py",
   "mimetype": "text/x-python",
   "name": "python",
   "nbconvert_exporter": "python",
   "pygments_lexer": "ipython3",
   "version": "3.5.2"
  }
 },
 "nbformat": 4,
 "nbformat_minor": 1
}
