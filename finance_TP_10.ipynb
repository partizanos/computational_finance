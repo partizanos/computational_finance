{
  "nbformat": 4,
  "nbformat_minor": 0,
  "metadata": {
    "colab": {
      "name": "finance_TP_10",
      "version": "0.3.2",
      "provenance": [],
      "include_colab_link": true
    },
    "kernelspec": {
      "name": "python3",
      "display_name": "Python 3"
    }
  },
  "cells": [
    {
      "cell_type": "markdown",
      "metadata": {
        "id": "view-in-github",
        "colab_type": "text"
      },
      "source": [
        "<a href=\"https://colab.research.google.com/github/partizanos/computational_finance/blob/master/finance_TP_10.ipynb\" target=\"_parent\"><img src=\"https://colab.research.google.com/assets/colab-badge.svg\" alt=\"Open In Colab\"/></a>"
      ]
    },
    {
      "cell_type": "markdown",
      "metadata": {
        "id": "PZXfYL8RffCP",
        "colab_type": "text"
      },
      "source": [
        ""
      ]
    },
    {
      "cell_type": "markdown",
      "metadata": {
        "id": "FixedJySfhMq",
        "colab_type": "text"
      },
      "source": [
        "**Series 10 --The Greeks**\n",
        "\n",
        "Like in the series 9, \n",
        "Let an asset S be valuated at t = 0. \n",
        "Let be a put option having maturity\n",
        "- T = 1\n",
        "- strike price K = 120. \n",
        "- volatility is assumed to be constant (σ = 20%) over the lifespan of the put; \n",
        "- the risk-free rate is r = 5%; \n",
        "\n",
        "Using the Black-Scholes formula to valuate the put price:\n",
        "\n",
        "-Plot the evolution of the put price as a function of the initial assert price S0.\n"
      ]
    },
    {
      "cell_type": "code",
      "metadata": {
        "id": "IDLgcKgBgfUf",
        "colab_type": "code",
        "colab": {
          "base_uri": "https://localhost:8080/",
          "height": 357
        },
        "outputId": "dd0daa3b-48e2-4fc3-faa5-70d4ba687503"
      },
      "source": [
        "\n",
        "import numpy as np\n",
        "import scipy.stats as si\n",
        "\n",
        "def Black_Scholes_Algo_Put(S, K, T, r, sigma):    \n",
        "    d1 = (np.log(S / K) + (r + 0.5 * sigma ** 2) * T) / (sigma * np.sqrt(T))\n",
        "    d2 = (np.log(S / K) + (r - 0.5 * sigma ** 2) * T) / (sigma * np.sqrt(T))\n",
        "    put = (K * np.exp(-r * T) * si.norm.cdf(-d2, 0.0, 1.0) - S * si.norm.cdf(-d1, 0.0, 1.0))\n",
        "    return put\n",
        "\n",
        "K, T, r, sigma = 120, 1, 0.05, 0.2\n",
        "s0 = [p for p in range(0,300)]\n",
        "price = [Black_Scholes_Algo_Put(S, K, T, r, sigma) for S in s0]\n",
        "\n",
        "import matplotlib.pyplot as plt \n",
        "plt.plot(s0, price)"
      ],
      "execution_count": 4,
      "outputs": [
        {
          "output_type": "stream",
          "text": [
            "/usr/local/lib/python3.6/dist-packages/ipykernel_launcher.py:13: RuntimeWarning: divide by zero encountered in log\n",
            "  del sys.path[0]\n",
            "/usr/local/lib/python3.6/dist-packages/ipykernel_launcher.py:14: RuntimeWarning: divide by zero encountered in log\n",
            "  \n"
          ],
          "name": "stderr"
        },
        {
          "output_type": "execute_result",
          "data": {
            "text/plain": [
              "[<matplotlib.lines.Line2D at 0x7f9404aaeba8>]"
            ]
          },
          "metadata": {
            "tags": []
          },
          "execution_count": 4
        },
        {
          "output_type": "display_data",
          "data": {
            "image/png": "[encoded data removed]",
            "text/plain": [
              "<Figure size 432x288 with 1 Axes>"
            ]
          },
          "metadata": {
            "tags": []
          }
        }
      ]
    },
    {
      "cell_type": "markdown",
      "metadata": {
        "id": "r8iZXb4vgf48",
        "colab_type": "text"
      },
      "source": [
        "-Plot the ∆ for this put.\n"
      ]
    },
    {
      "cell_type": "code",
      "metadata": {
        "id": "65A34Is5giF9",
        "colab_type": "code",
        "colab": {}
      },
      "source": [
        ""
      ],
      "execution_count": 0,
      "outputs": []
    },
    {
      "cell_type": "markdown",
      "metadata": {
        "id": "l-_40zhrgilv",
        "colab_type": "text"
      },
      "source": [
        "Plot the Γ for this put.\n"
      ]
    },
    {
      "cell_type": "code",
      "metadata": {
        "id": "tSJ71TWyfcID",
        "colab_type": "code",
        "colab": {}
      },
      "source": [
        ""
      ],
      "execution_count": 0,
      "outputs": []
    },
    {
      "cell_type": "markdown",
      "metadata": {
        "id": "Rj_2-trSgkwt",
        "colab_type": "text"
      },
      "source": [
        "Comment the graphs:\n",
        "\n",
        "....\n",
        "\n",
        "Suppose that the asset price is S0 = 100, and we sell 1000 puts.\n",
        "- We want be ∆-neutralized, which position should we have?\n",
        "\n",
        "...\n",
        "\n",
        "- Suppose $S_{0+\\epsilon} = 105$, what is the payoff of this strategy?\n",
        "\n",
        "...\n",
        "- And for $S_{0+\\epsilon}$ = 95?\n",
        "\n",
        "..."
      ]
    },
    {
      "cell_type": "code",
      "metadata": {
        "id": "_6QUVxvwgrmY",
        "colab_type": "code",
        "colab": {}
      },
      "source": [
        ""
      ],
      "execution_count": 0,
      "outputs": []
    }
  ]
}