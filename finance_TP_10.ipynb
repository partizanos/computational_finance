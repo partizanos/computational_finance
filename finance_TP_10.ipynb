{
  "nbformat": 4,
  "nbformat_minor": 0,
  "metadata": {
    "colab": {
      "name": "finance_TP_10",
      "version": "0.3.2",
      "provenance": [],
      "include_colab_link": true
    },
    "kernelspec": {
      "name": "python3",
      "display_name": "Python 3"
    }
  },
  "cells": [
    {
      "cell_type": "markdown",
      "metadata": {
        "id": "view-in-github",
        "colab_type": "text"
      },
      "source": [
        "<a href=\"https://colab.research.google.com/github/partizanos/computational_finance/blob/master/finance_TP_10.ipynb\" target=\"_parent\"><img src=\"https://colab.research.google.com/assets/colab-badge.svg\" alt=\"Open In Colab\"/></a>"
      ]
    },
    {
      "cell_type": "markdown",
      "metadata": {
        "id": "PZXfYL8RffCP",
        "colab_type": "text"
      },
      "source": [
        ""
      ]
    },
    {
      "cell_type": "markdown",
      "metadata": {
        "id": "FixedJySfhMq",
        "colab_type": "text"
      },
      "source": [
        "**Series 10 --The Greeks**\n",
        "\n",
        "Like in the series 9, \n",
        "Let an asset S be valuated at t = 0. \n",
        "Let be a put option having maturity\n",
        "- T = 1\n",
        "- strike price K = 120. \n",
        "- volatility is assumed to be constant (σ = 20%) over the lifespan of the put; \n",
        "- the risk-free rate is r = 5%; \n",
        "\n",
        "Using the Black-Scholes formula to valuate the put price:\n",
        "\n",
        "-Plot the evolution of the put price as a function of the initial assert price S0.\n"
      ]
    },
    {
      "cell_type": "code",
      "metadata": {
        "id": "IDLgcKgBgfUf",
        "colab_type": "code",
        "colab": {}
      },
      "source": [
        ""
      ],
      "execution_count": 0,
      "outputs": []
    },
    {
      "cell_type": "markdown",
      "metadata": {
        "id": "r8iZXb4vgf48",
        "colab_type": "text"
      },
      "source": [
        "-Plot the ∆ for this put.\n"
      ]
    },
    {
      "cell_type": "code",
      "metadata": {
        "id": "65A34Is5giF9",
        "colab_type": "code",
        "colab": {}
      },
      "source": [
        ""
      ],
      "execution_count": 0,
      "outputs": []
    },
    {
      "cell_type": "markdown",
      "metadata": {
        "id": "l-_40zhrgilv",
        "colab_type": "text"
      },
      "source": [
        "Plot the Γ for this put.\n"
      ]
    },
    {
      "cell_type": "code",
      "metadata": {
        "id": "tSJ71TWyfcID",
        "colab_type": "code",
        "colab": {}
      },
      "source": [
        ""
      ],
      "execution_count": 0,
      "outputs": []
    },
    {
      "cell_type": "markdown",
      "metadata": {
        "id": "Rj_2-trSgkwt",
        "colab_type": "text"
      },
      "source": [
        "Comment the graphs:\n",
        "\n",
        "....\n",
        "\n",
        "Suppose that the asset price is S0 = 100, and we sell 1000 puts.\n",
        "- We want be ∆-neutralized, which position should we have?\n",
        "\n",
        "...\n",
        "\n",
        "- Suppose $S_{0+\\epsilon} = 105$, what is the payoff of this strategy?\n",
        "\n",
        "...\n",
        "- And for $S_{0+\\epsilon}$ = 95?\n",
        "\n",
        "..."
      ]
    },
    {
      "cell_type": "code",
      "metadata": {
        "id": "_6QUVxvwgrmY",
        "colab_type": "code",
        "colab": {}
      },
      "source": [
        ""
      ],
      "execution_count": 0,
      "outputs": []
    }
  ]
}