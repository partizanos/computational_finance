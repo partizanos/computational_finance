{
  "nbformat": 4,
  "nbformat_minor": 0,
  "metadata": {
    "colab": {
      "name": "finance_TP_10",
      "version": "0.3.2",
      "provenance": [],
      "include_colab_link": true
    },
    "kernelspec": {
      "name": "python3",
      "display_name": "Python 3"
    }
  },
  "cells": [
    {
      "cell_type": "markdown",
      "metadata": {
        "id": "view-in-github",
        "colab_type": "text"
      },
      "source": [
        "<a href=\"https://colab.research.google.com/github/partizanos/computational_finance/blob/master/finance_TP_10.ipynb\" target=\"_parent\"><img src=\"https://colab.research.google.com/assets/colab-badge.svg\" alt=\"Open In Colab\"/></a>"
      ]
    },
    {
      "cell_type": "markdown",
      "metadata": {
        "id": "PZXfYL8RffCP",
        "colab_type": "text"
      },
      "source": [
        ""
      ]
    },
    {
      "cell_type": "markdown",
      "metadata": {
        "id": "FixedJySfhMq",
        "colab_type": "text"
      },
      "source": [
        "# Series 10 --The Greeks\n",
        "\n",
        "## Exercise 1\n",
        "Like in the series 9, \n",
        "Let an asset S be valuated at t = 0. \n",
        "Let be a put option having maturity\n",
        "- T = 1\n",
        "- strike price K = 120. \n",
        "- volatility is assumed to be constant (σ = 20%) over the lifespan of the put; \n",
        "- the risk-free rate is r = 5%; \n",
        "\n",
        "\n",
        "###  Exercise 1.1\n",
        "Using the Black-Scholes formula to valuate the put price:\n",
        "\n",
        "-Plot the evolution of the put price as a function of the initial assert price S0.\n"
      ]
    },
    {
      "cell_type": "code",
      "metadata": {
        "id": "IDLgcKgBgfUf",
        "colab_type": "code",
        "outputId": "f2398ca6-b211-4b9f-da9b-4c65d3a74ea8",
        "colab": {
          "base_uri": "https://localhost:8080/",
          "height": 299
        }
      },
      "source": [
        "import numpy as np\n",
        "import scipy.stats as si\n",
        "import matplotlib.pyplot as plt \n",
        "import math\n",
        "\n",
        "def Black_Scholes_Algo_Put(S, K, T, r, sigma):    \n",
        "    d1 = (np.log(S / K) + (r + 0.5 * sigma ** 2) * T) / (sigma * np.sqrt(T))\n",
        "    d2 = (np.log(S / K) + (r - 0.5 * sigma ** 2) * T) / (sigma * np.sqrt(T))\n",
        "    put = (K * np.exp(-r * T) * si.norm.cdf(-d2, 0.0, 1.0) - S * si.norm.cdf(-d1, 0.0, 1.0))\n",
        "    return put\n",
        "\n",
        "K, T, r, sigma = 120, 1, 0.05, 0.2\n",
        "s0 = [p for p in range(1,300)]\n",
        "price = [Black_Scholes_Algo_Put(S, K, T, r, sigma) for S in s0]\n",
        "\n",
        "# plt.xlabel(\"S0 prices 1-300\")\n",
        "# plt.ylabel(\"value of the Put option\")\n",
        "plt.plot(s0, price)\n",
        "plt.title('X axis: S0 prices 1-300, Y axis: \"value of the Put option ')"
      ],
      "execution_count": 0,
      "outputs": [
        {
          "output_type": "execute_result",
          "data": {
            "text/plain": [
              "Text(0.5, 1.0, 'X axis: S0 prices 1-300, Y axis: \"value of the Put option ')"
            ]
          },
          "metadata": {
            "tags": []
          },
          "execution_count": 42
        },
        {
          "output_type": "display_data",
          "data": {
            "image/png": "[encoded data removed]",
            "text/plain": [
              "<Figure size 432x288 with 1 Axes>"
            ]
          },
          "metadata": {
            "tags": []
          }
        }
      ]
    },
    {
      "cell_type": "markdown",
      "metadata": {
        "id": "r8iZXb4vgf48",
        "colab_type": "text"
      },
      "source": [
        "###  Exercise 1.2\n",
        "\n",
        "-Plot the ∆ for this put.\n"
      ]
    },
    {
      "cell_type": "code",
      "metadata": {
        "id": "65A34Is5giF9",
        "colab_type": "code",
        "outputId": "f6189730-fe32-4450-a4b9-9834badc2630",
        "colab": {
          "base_uri": "https://localhost:8080/",
          "height": 281
        }
      },
      "source": [
        "def get_d1(s, k, r, sigma, t):\n",
        "   return ( math.log(s/k) + ( r + (sigma**2)/2 ) * t ) / ( sigma * np.sqrt(t) )\n",
        "\n",
        "def get_price_delta(s, k, r, sigma, t):\n",
        "        d1 =  get_d1(s, k, r, sigma, t)\n",
        "        d2 = d1 - sigma * np.sqrt(t)\n",
        "        delta = si.norm.cdf(d1) -1 \n",
        "        # delta + k * np.e**(-r*t) * si.norm.cdf(-d2) \n",
        "        return delta\n",
        "        \n",
        "deltas = [get_price_delta(S, K, r, sigma, T) for S in s0]\n",
        "plt.plot(s0, deltas)\n",
        "plt.title('X axis: S0 prices 1-300, Y axis: \"delta value')\n",
        "plt.show()"
      ],
      "execution_count": 0,
      "outputs": [
        {
          "output_type": "display_data",
          "data": {
            "image/png": "[encoded data removed]",
            "text/plain": [
              "<Figure size 432x288 with 1 Axes>"
            ]
          },
          "metadata": {
            "tags": []
          }
        }
      ]
    },
    {
      "cell_type": "code",
      "metadata": {
        "id": "_Gclpo1e8TjK",
        "colab_type": "code",
        "colab": {}
      },
      "source": [
        ""
      ],
      "execution_count": 0,
      "outputs": []
    },
    {
      "cell_type": "markdown",
      "metadata": {
        "id": "l-_40zhrgilv",
        "colab_type": "text"
      },
      "source": [
        "###  Exercise 1.3\n",
        "\n",
        "Plot the Γ for this put.\n"
      ]
    },
    {
      "cell_type": "code",
      "metadata": {
        "id": "tSJ71TWyfcID",
        "colab_type": "code",
        "outputId": "c663fa4e-3241-4a7b-97ce-e3afec7d0fa9",
        "colab": {
          "base_uri": "https://localhost:8080/",
          "height": 281
        }
      },
      "source": [
        "def get_phi(d1):\n",
        "  phi = np.e**(-(d1**2)/2) / math.sqrt(2* np.pi)\n",
        "  return phi\n",
        "\n",
        "def get_gamma(S, K, r, sigma, T):\n",
        "  d1 = get_d1(S, K, r, sigma, T)\n",
        "  phi = get_phi(d1) \n",
        "  gamma = phi / (S* sigma * np.sqrt(T))\n",
        "  return gamma\n",
        "\n",
        "deltas = [get_gamma(S, K, r, sigma, T) for S in s0]\n",
        "plt.plot(s0, deltas)\n",
        "plt.title('X axis: S0 prices 1-300, Y axis: \"gamma value  ')\n",
        "plt.show()"
      ],
      "execution_count": 0,
      "outputs": [
        {
          "output_type": "display_data",
          "data": {
            "image/png": "[encoded data removed]",
            "text/plain": [
              "<Figure size 432x288 with 1 Axes>"
            ]
          },
          "metadata": {
            "tags": []
          }
        }
      ]
    },
    {
      "cell_type": "markdown",
      "metadata": {
        "id": "Rj_2-trSgkwt",
        "colab_type": "text"
      },
      "source": [
        "## Exercise 1.4  Comment the graphs:\n",
        "\n",
        "- Put option graph\n",
        "\n",
        "Put option gives the right to sell the underslying at the strke price.\n",
        "This entails that for prices below strike price the owner of the option will sell in higher price and thus make profit. This can be seen in the the graph too since after 120 we see 0 profit for the owner of the option and the further we are from 120 the more potential profit there is.\n",
        "\n",
        "- delta graph:\n",
        "\n",
        "Delta graph is a derivative of on the option price. This means that it is subject to its changes. The delta is a ratio comparing the change in the price of an underlying asset  to the corresponding change in the price of its derivative. This is also visible in our case since as long as the value of option is dropping in a steady rate the delta is -1 and then it is changing until it arrives to 0.\n",
        "\n",
        "- gamma graph: \n",
        "\n",
        "Gamma as a metric measures the derivative of delta . Delta change only for the spectrum of values in around 120.\n",
        "Thus Gamma is forming a bell around that spectrum too indicating the acceelaration of the option value or the velocity of change of the delta if we can make this parallelization.\n",
        "\n",
        "## Exercise 2\n",
        "\n",
        "\n",
        "Suppose that the asset price is S0 = 100, and we sell 1000 puts.\n",
        "\n",
        "### Exercise 2.1\n",
        "- We want be ∆-neutralized, which position should we have?\n",
        "\n",
        "*Answer*\n",
        "\n",
        "We sell the right means we have 1000 Short Put contracts. \n",
        "The $\\Delta$ is for \n",
        "S0 =100 ,\n",
        "K strike = 120 \n",
        "r = 0.05 \n",
        "maturity time in T =1 is : \n",
        "\n",
        "- 0.71"
      ]
    },
    {
      "cell_type": "code",
      "metadata": {
        "id": "aJDV-zy5M3nW",
        "colab_type": "code",
        "colab": {
          "base_uri": "https://localhost:8080/",
          "height": 69
        },
        "outputId": "c4943d82-66a8-499e-a3a0-e59f759866b1"
      },
      "source": [
        "(\"value of delta: \" , get_price_delta(100, K, r, sigma, T)), (\"value of short Put  \", Black_Scholes_Algo_Put(100, K, T, r, sigma)), (\"how much money we got from short puts \", 1000* Black_Scholes_Algo_Put(100, K, T, r, sigma)) "
      ],
      "execution_count": 67,
      "outputs": [
        {
          "output_type": "execute_result",
          "data": {
            "text/plain": [
              "(('value of delta: ', -0.7128083620948729),\n",
              " ('value of short Put  ', 17.3950083566465),\n",
              " ('how much money we got from short puts ', 17395.0083566465))"
            ]
          },
          "metadata": {
            "tags": []
          },
          "execution_count": 67
        }
      ]
    },
    {
      "cell_type": "markdown",
      "metadata": {
        "id": "okke9wPdNEx8",
        "colab_type": "text"
      },
      "source": [
        "Since the underlying stock's delta is -0.7, our current position has a delta \n",
        "$0.71 *1000 = -710 $\n",
        "In other words with this position an investor would loose 710 when the price of the underlyinh increases by $\\delta S $\n",
        "\n",
        "We can buy a position with delta 710 stocks to compensate for that.\n",
        "\n",
        "\n",
        "\n",
        "### Exercise 2.2\n",
        "- Suppose $S_{0+\\epsilon} = 105$, what is the payoff of this strategy?\n",
        "\n",
        "Answer: 0 since we neutralized it."
      ]
    },
    {
      "cell_type": "code",
      "metadata": {
        "id": "KBDxQy_yO5-T",
        "colab_type": "code",
        "colab": {
          "base_uri": "https://localhost:8080/",
          "height": 35
        },
        "outputId": "b3b0e197-e468-474c-ff41-ebaa6c3cf203"
      },
      "source": [
        "((\"profits of puts\",\n",
        "1000* ( Black_Scholes_Algo_Put(105, K, T, r, sigma) - Black_Scholes_Algo_Put(100, K, T, r, sigma) )),\n",
        "(\"profits from stock\",\n",
        " 710*(105 - 100))\n",
        ")"
      ],
      "execution_count": 81,
      "outputs": [
        {
          "output_type": "execute_result",
          "data": {
            "text/plain": [
              "(('profits of puts', -3345.727260402114), ('profits from stock', 3550))"
            ]
          },
          "metadata": {
            "tags": []
          },
          "execution_count": 81
        }
      ]
    },
    {
      "cell_type": "markdown",
      "metadata": {
        "id": "6DY7N_b8O6b6",
        "colab_type": "text"
      },
      "source": [
        "When the \n",
        "\n",
        "### Exercise 2.3\n",
        "- And for $S_{0+\\epsilon}$ = 95?\n",
        "\n",
        "0 since we neutralized it "
      ]
    },
    {
      "cell_type": "code",
      "metadata": {
        "id": "nSGOijU3Sdtk",
        "colab_type": "code",
        "colab": {
          "base_uri": "https://localhost:8080/",
          "height": 35
        },
        "outputId": "7478d1ad-f901-4344-9870-f12cdbb768de"
      },
      "source": [
        "((\"profits of puts\",\n",
        "1000* (  Black_Scholes_Algo_Put(95, K, T, r, sigma) - Black_Scholes_Algo_Put(100, K, T, r, sigma) )),\n",
        "(\"profits from stock\",\n",
        " 710*(95 - 100))\n",
        ")"
      ],
      "execution_count": 80,
      "outputs": [
        {
          "output_type": "execute_result",
          "data": {
            "text/plain": [
              "(('profits of puts', 3769.575723060839), ('profits from stock', -3550))"
            ]
          },
          "metadata": {
            "tags": []
          },
          "execution_count": 80
        }
      ]
    }
  ]
}