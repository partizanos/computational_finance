{
  "nbformat": 4,
  "nbformat_minor": 0,
  "metadata": {
    "colab": {
      "name": "Comp Finance TP 11",
      "version": "0.3.2",
      "provenance": [],
      "include_colab_link": true
    },
    "kernelspec": {
      "name": "python3",
      "display_name": "Python 3"
    }
  },
  "cells": [
    {
      "cell_type": "markdown",
      "metadata": {
        "id": "view-in-github",
        "colab_type": "text"
      },
      "source": [
        "<a href=\"https://colab.research.google.com/github/partizanos/computational_finance/blob/master/Comp_Finance_TP_11.ipynb\" target=\"_parent\"><img src=\"https://colab.research.google.com/assets/colab-badge.svg\" alt=\"Open In Colab\"/></a>"
      ]
    },
    {
      "cell_type": "markdown",
      "metadata": {
        "id": "M15shYoECdx1",
        "colab_type": "text"
      },
      "source": [
        "Series 11\n",
        "Introduction to Computational Finance\n",
        "\n",
        "## Bonds\n",
        "Suppose we have a bond with 3 years maturity, a face value of 100$ and coupons of 10%\n",
        "paid semi-annually:\n",
        "\n",
        "\n",
        "|time [years] | coupon [CHF] \n",
        "|---|---| \n",
        "| 0.5 | 5\n",
        "| 1 | 5\n",
        "| 1.5 | 5\n",
        "| 2 | 5\n",
        "|2.5 | 5\n",
        "| 3 | 5\n",
        "\n",
        "• What is the required yield to sell the bond at par ?\n",
        "\n",
        "**Answer**\n",
        "- Par value of the bond:\n",
        "\n",
        "The amount of money bond issuers promise to pay bondholders at the maturity date of the bond.\n",
        "\n",
        "- Required yield: \n",
        "\n",
        "The return a bond must offer in order for the investment to be worthwhile the risk. \n",
        "\n",
        "In our case it is the value we paid 100$  discounting the coupon interest paid to us prior to maturity days.\n",
        "As seen below the values is 74.62153966366274"
      ]
    },
    {
      "cell_type": "code",
      "metadata": {
        "id": "C0cYClrfCZa5",
        "colab_type": "code",
        "colab": {
          "base_uri": "https://localhost:8080/",
          "height": 156
        },
        "outputId": "7aa393e4-8b4e-46e0-a670-f5bfcbba9d74"
      },
      "source": [
        "import math\n",
        "\n",
        "def total_present_value(face_value, coupon, periods, rate):\n",
        "    total_pv = 0\n",
        "    coupon_values = [coupon / math.pow((1 + rate), n) for n in range(1, periods+1)]\n",
        "    total_pv += sum(coupon_values)\n",
        " \n",
        "    last_payment = face_value / math.pow((1 + rate), periods)\n",
        "    total_pv += last_payment\n",
        " \n",
        "    return coupon_values, last_payment, total_pv\n",
        "\n",
        "\n",
        "face_value = 100\n",
        "coupon = 5\n",
        "periods = 6\n",
        "rate = 0.05\n",
        "\n",
        "total_present_value(face_value, coupon, periods, rate)"
      ],
      "execution_count": 24,
      "outputs": [
        {
          "output_type": "execute_result",
          "data": {
            "text/plain": [
              "([4.761904761904762,\n",
              "  4.535147392290249,\n",
              "  4.31918799265738,\n",
              "  4.113512373959409,\n",
              "  3.917630832342294,\n",
              "  3.731076983183137],\n",
              " 74.62153966366274,\n",
              " 99.99999999999997)"
            ]
          },
          "metadata": {
            "tags": []
          },
          "execution_count": 24
        }
      ]
    },
    {
      "cell_type": "markdown",
      "metadata": {
        "id": "0du9FewfLtRm",
        "colab_type": "text"
      },
      "source": [
        "### Payoff and profit of bonds\n",
        "Profit given by a bond is obtained by discounting the principal to the payoff\n",
        "for a constant interest rate r through a period τ and m coupons on a principal of $P_0$ ,\n",
        "$P_τ − P_0 = P_0 ((1 + r/m) mτ − 1)$"
      ]
    },
    {
      "cell_type": "code",
      "metadata": {
        "id": "kfHNoZ17L739",
        "colab_type": "code",
        "colab": {
          "base_uri": "https://localhost:8080/",
          "height": 35
        },
        "outputId": "e8e22f0d-2c8e-4598-c062-11d513c59d7d"
      },
      "source": [
        "p0 = 100\n",
        "r = 0.1\n",
        "m = 6\n",
        "t = 3\n",
        "payoff = p0 * ( (1+r/m)**(m*t) -1 )\n",
        "payoff"
      ],
      "execution_count": 28,
      "outputs": [
        {
          "output_type": "execute_result",
          "data": {
            "text/plain": [
              "34.65253169320868"
            ]
          },
          "metadata": {
            "tags": []
          },
          "execution_count": 28
        }
      ]
    },
    {
      "cell_type": "markdown",
      "metadata": {
        "id": "aHlcnqjWDTJ2",
        "colab_type": "text"
      },
      "source": [
        "## Interest curve\n",
        "Considering the following bonds:\n",
        " \n",
        " |  Principal| Maturity  | Coupon (month)   |  Price semi-annually | \n",
        " |--|--|--|--|\n",
        " |  100  | 1   | 0 | 99.80\n",
        " |  100  | 2   | 0 | 99.60\n",
        " |  100  | 3   | 0 | 99.40\n",
        " |  100  | 6   | 3 | 100.27\n",
        " |  100  | 12  |  4 |  101.57\n",
        "\n",
        "\n",
        " \n",
        " |  Principal| Maturity  | Coupon (month)   |  Price annually | \n",
        " |--|--|--|--|\n",
        "|100| 2| 4| 103.21\n",
        "|100| 3| 4| 104.85\n",
        "|100| 4| 4| 106.36\n",
        "|100| 5| 4| 107.77\n",
        "|100| 7| 0| 84.48\n",
        "|100 |10| 0| 77.72\n",
        "\n",
        "Draw the graph of the corresponding interest rate.\n",
        "\n",
        "Comment you graph.\n",
        "\n",
        "\n",
        "**Answer**\n",
        "\n",
        "The first bond as a rising value and a rising coupon value.\n",
        "Thus the interest rate the more the time passes it rising too.\n",
        "\n",
        "The reverse effect can be seen in the second bond example where the bond is paying ess and its price is also dropping at the same time.\n"
      ]
    },
    {
      "cell_type": "code",
      "metadata": {
        "id": "0GWi7mO61UbR",
        "colab_type": "code",
        "colab": {
          "base_uri": "https://localhost:8080/",
          "height": 539
        },
        "outputId": "fc6dc4fc-26f6-4ad4-96bf-5ab180c3d913"
      },
      "source": [
        "import matplotlib.image as mpimg\n",
        "import matplotlib.pyplot as plt\n",
        "import numpy as np\n",
        "\n",
        "def interest_rate(coupon, face_value):\n",
        "  return coupon/face_value\n",
        "\n",
        "def gen_B(mat, prices):\n",
        "  return {m:p for m,p in zip(mat, prices) }\n",
        " \n",
        "B = gen_B(maturity_1, price_semi_anual_1)\n",
        "  \n",
        "def y(t):\n",
        "  return -np.log(B(t))/t\n",
        "\n",
        "maturity_1 = [1,2,3,6,12]\n",
        "coupon_1 = [0,0,0,3,4]\n",
        "price_semi_anual_1 = [99.8, 99.6, 99.4, 100.27, 101.57]\n",
        "interest_rate_1 = [\n",
        "    interest_rate(c, p) for p,c  in zip(price_semi_anual_1, coupon_1)\n",
        "]\n",
        "\n",
        "\n",
        "maturity_2 = [2,3,4,6,7,10]\n",
        "coupon_2 = [4,4,4,4,0,0]\n",
        "price_semi_anual_2 = [103.21, 104.85, 106.36, 107.77, 84.48, 77.72]\n",
        "interest_rate_2 = [\n",
        "    interest_rate(c, p) for p,c  in zip(price_semi_anual_2, coupon_2)\n",
        "]\n",
        "\n",
        "plt.plot(maturity_1, interest_rate_1); plt.show()\n",
        "plt.plot(maturity_2, interest_rate_2)\n",
        "\n"
      ],
      "execution_count": 32,
      "outputs": [
        {
          "output_type": "display_data",
          "data": {
            "image/png": "[encoded data removed]",
            "text/plain": [
              "<Figure size 432x288 with 1 Axes>"
            ]
          },
          "metadata": {
            "tags": []
          }
        },
        {
          "output_type": "execute_result",
          "data": {
            "text/plain": [
              "[<matplotlib.lines.Line2D at 0x7fdfcf0119b0>]"
            ]
          },
          "metadata": {
            "tags": []
          },
          "execution_count": 32
        },
        {
          "output_type": "display_data",
          "data": {
            "image/png": "[encoded data removed]",
            "text/plain": [
              "<Figure size 432x288 with 1 Axes>"
            ]
          },
          "metadata": {
            "tags": []
          }
        }
      ]
    },
    {
      "cell_type": "code",
      "metadata": {
        "id": "5JY58cimXjIr",
        "colab_type": "code",
        "colab": {
          "base_uri": "https://localhost:8080/",
          "height": 104
        },
        "outputId": "4529dd12-5df0-425d-e2da-132b95a4534b"
      },
      "source": [
        "import matplotlib.image as mpimg\n",
        "import matplotlib.pyplot as plt\n",
        "import numpy as np\n",
        "\n",
        "maturity_1 = [1,2,3,6,12]\n",
        "coupon_1 = [0,0,0,3,4]\n",
        "price_semi_anual_1 = [99.8, 99.6, 99.4, 100.27, 101.57]\n",
        "\n",
        "maturity_2 = [2,3,4,6,7,10]\n",
        "coupon_2 = [4,4,4,4,0,0]\n",
        "price_semi_anual_2 = [103.21, 104.85, 106.36, 107.77, 84.48, 77.72]\n",
        "\n",
        "interest_rate =lambda coupon, face_value: coupon/face_value\n",
        "gen_B= lambda mat, prices:( {m:p for m,p in zip(mat, prices) })\n",
        "B = gen_B(maturity_1, price_semi_anual_1)\n",
        "B  \n",
        "gen_y = lambda t, B: ({ -np.log(B[t])/t })\n",
        "\n",
        "y_s= { t:gen_y(t,B) for t in maturity_1}\n",
        "y_s\n",
        "\n",
        "def interest(y, t):\n",
        "  y[t]=w\n",
        "# interest_rate_1 = [\n",
        "#     interest_rate(c, p) for p,c  in zip(price_semi_anual_1, coupon_1)\n",
        "# ]\n",
        "# interest_rate_2 = [\n",
        "#     interest_rate(c, p) for p,c  in zip(price_semi_anual_2, coupon_2)\n",
        "# ]\n",
        "# plt.plot(maturity_1, interest_rate_1); plt.show()\n",
        "# plt.plot(maturity_2, interest_rate_2)\n",
        "\n"
      ],
      "execution_count": 42,
      "outputs": [
        {
          "output_type": "execute_result",
          "data": {
            "text/plain": [
              "{1: {-4.603168183317418},\n",
              " 2: {-2.300581082295276},\n",
              " 3: {-1.5330507045541761},\n",
              " 6: {-0.767977757922639},\n",
              " 12: {-0.3850623513292841}}"
            ]
          },
          "metadata": {
            "tags": []
          },
          "execution_count": 42
        }
      ]
    }
  ]
}